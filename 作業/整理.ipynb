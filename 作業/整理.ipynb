{
 "cells": [
  {
   "cell_type": "code",
   "execution_count": 1,
   "metadata": {},
   "outputs": [],
   "source": [
    "%matplotlib inline\n",
    "\n",
    "import matplotlib.pyplot as plt\n",
    "import numpy as np\n",
    "import time \n",
    "import random"
   ]
  },
  {
   "cell_type": "markdown",
   "metadata": {},
   "source": [
    "### Merge sort"
   ]
  },
  {
   "cell_type": "code",
   "execution_count": 2,
   "metadata": {},
   "outputs": [],
   "source": [
    "def mergeSort(myList):\n",
    "    if len(myList) > 1:\n",
    "        mid = len(myList) // 2\n",
    "        left = myList[:mid]\n",
    "        right = myList[mid:]\n",
    "\n",
    "        # Recursive call on each half\n",
    "        mergeSort(left)\n",
    "        mergeSort(right)\n",
    "\n",
    "        # Two iterators for traversing the two halves\n",
    "        i = 0\n",
    "        j = 0\n",
    "        \n",
    "        # Iterator for the main list\n",
    "        k = 0\n",
    "        \n",
    "        while i < len(left) and j < len(right):\n",
    "            if left[i] < right[j]:\n",
    "              # The value from the left half has been used\n",
    "              myList[k] = left[i]\n",
    "              # Move the iterator forward\n",
    "              i += 1\n",
    "            else:\n",
    "                myList[k] = right[j]\n",
    "                j += 1\n",
    "            # Move to the next slot\n",
    "            k += 1\n",
    "\n",
    "        # For all the remaining values\n",
    "        while i < len(left):\n",
    "            myList[k] = left[i]\n",
    "            i += 1\n",
    "            k += 1\n",
    "\n",
    "        while j < len(right):\n",
    "            myList[k]=right[j]\n",
    "            j += 1\n",
    "            k += 1"
   ]
  },
  {
   "cell_type": "markdown",
   "metadata": {},
   "source": [
    "### insertion sort"
   ]
  },
  {
   "cell_type": "code",
   "execution_count": 3,
   "metadata": {},
   "outputs": [],
   "source": [
    "def insertionSort(arr): \n",
    "  \n",
    "    # Traverse through 1 to len(arr) \n",
    "    for i in range(1, len(arr)): \n",
    "  \n",
    "        key = arr[i] \n",
    "  \n",
    "        # Move elements of arr[0..i-1], that are \n",
    "        # greater than key, to one position ahead \n",
    "        # of their current position \n",
    "        j = i-1\n",
    "        while j >=0 and key < arr[j] : \n",
    "                arr[j+1] = arr[j] \n",
    "                j -= 1\n",
    "        arr[j+1] = key "
   ]
  },
  {
   "cell_type": "markdown",
   "metadata": {},
   "source": [
    "### randomized quick sort"
   ]
  },
  {
   "cell_type": "code",
   "execution_count": 4,
   "metadata": {},
   "outputs": [],
   "source": [
    "import random   \n",
    "''' \n",
    "The function which implements QuickSort. \n",
    "arr :- array to be sorted. \n",
    "start :- starting index of the array. \n",
    "stop :- ending index of the array. \n",
    "'''\n",
    "def quicksort(arr, start , stop): \n",
    "    if(start < stop): \n",
    "        pivotindex = partitionrand(arr, start, stop) \n",
    "        quicksort(arr , start , pivotindex - 1) \n",
    "        quicksort(arr, pivotindex + 1, stop) \n",
    "def partitionrand(arr , start, stop): \n",
    "    randpivot = random.randrange(start, stop) \n",
    "    arr[start], arr[randpivot] = arr[randpivot], arr[start] \n",
    "    return partition(arr, start, stop) \n",
    "def partition(arr,start,stop): \n",
    "    pivot = start \n",
    "    i = start + 1 \n",
    "    for j in range(start + 1, stop + 1): \n",
    "        if arr[j] <= arr[pivot]: \n",
    "            arr[i] , arr[j] = arr[j] , arr[i] \n",
    "            i = i + 1\n",
    "    arr[pivot] , arr[i - 1] = arr[i - 1] , arr[pivot] \n",
    "    pivot = i - 1\n",
    "    return (pivot) "
   ]
  },
  {
   "cell_type": "markdown",
   "metadata": {},
   "source": [
    "### heap sort"
   ]
  },
  {
   "cell_type": "code",
   "execution_count": 5,
   "metadata": {},
   "outputs": [],
   "source": [
    "def heapify(arr, n, i):\n",
    "      # Find largest among root and children\n",
    "    largest = i\n",
    "    l = 2 * i + 1\n",
    "    r = 2 * i + 2\n",
    "  \n",
    "    if l < n and arr[i] < arr[l]:\n",
    "        largest = l\n",
    "  \n",
    "    if r < n and arr[largest] < arr[r]:\n",
    "        largest = r\n",
    "  \n",
    "      # If root is not largest, swap with largest and continue heapifying\n",
    "    if largest != i:\n",
    "        arr[i], arr[largest] = arr[largest], arr[i]\n",
    "        heapify(arr, n, largest)\n",
    "  \n",
    "  \n",
    "def heapSort(arr):\n",
    "    n = len(arr)\n",
    "  \n",
    "      # Build max heap\n",
    "    for i in range(n, -1, -1):\n",
    "        heapify(arr, n, i)\n",
    "  \n",
    "    for i in range(n-1, 0, -1):\n",
    "          # Swap\n",
    "        arr[i], arr[0] = arr[0], arr[i]"
   ]
  },
  {
   "cell_type": "markdown",
   "metadata": {},
   "source": [
    "### counting sort"
   ]
  },
  {
   "cell_type": "code",
   "execution_count": 6,
   "metadata": {},
   "outputs": [],
   "source": [
    "def counting_sort(array, maxval):\n",
    "    \"\"\"in-place counting sort\"\"\"\n",
    "    m = maxval + 1\n",
    "    count = [0] * m               # init with zeros\n",
    "    for a in array:\n",
    "        count[a] += 1             # count occurences\n",
    "    i = 0\n",
    "    for a in range(m):            # emit\n",
    "        for c in range(count[a]): # - emit 'count[a]' copies of 'a'\n",
    "            array[i] = a\n",
    "            i += 1\n",
    "    return (array,count)"
   ]
  },
  {
   "cell_type": "markdown",
   "metadata": {},
   "source": [
    "### 製造almost sorted"
   ]
  },
  {
   "cell_type": "code",
   "execution_count": 7,
   "metadata": {},
   "outputs": [],
   "source": [
    "def almost_sorted(a):\n",
    "    arr = np.arange(1,a+1,1)\n",
    "    for i in range(1,101):\n",
    "        arr[np.random.randint(0,a-1)] = np.random.randint(1,1001)\n",
    "    return(arr)"
   ]
  },
  {
   "cell_type": "markdown",
   "metadata": {},
   "source": [
    "### Merge Sort 執行"
   ]
  },
  {
   "cell_type": "code",
   "execution_count": 18,
   "metadata": {
    "scrolled": false
   },
   "outputs": [
    {
     "name": "stdout",
     "output_type": "stream",
     "text": [
      "Merge Sort\n",
      "10\n",
      "0.011953\n",
      "10\n",
      "0.010009\n",
      "10\n",
      "0.011968\n",
      "10\n",
      "0.013964\n",
      "10\n",
      "0.011962\n",
      "10\n",
      "0.007013\n",
      "10\n",
      "0.006951\n",
      "10\n",
      "0.005976\n",
      "10\n",
      "0.005982\n",
      "10\n",
      "0.005976\n",
      "11\n",
      "0.011938\n",
      "11\n",
      "0.009955\n",
      "11\n",
      "0.009971\n",
      "11\n",
      "0.010971\n",
      "11\n",
      "0.009973\n",
      "11\n",
      "0.009973\n",
      "11\n",
      "0.01097\n",
      "11\n",
      "0.009975\n",
      "11\n",
      "0.01097\n",
      "11\n",
      "0.009974\n",
      "12\n",
      "0.021909\n",
      "12\n",
      "0.022976\n",
      "12\n",
      "0.021935\n",
      "12\n",
      "0.020946\n",
      "12\n",
      "0.025969\n",
      "12\n",
      "0.021977\n",
      "12\n",
      "0.021942\n",
      "12\n",
      "0.021941\n",
      "12\n",
      "0.021946\n",
      "12\n",
      "0.021938\n",
      "13\n",
      "0.044885\n",
      "13\n",
      "0.045908\n",
      "13\n",
      "0.055856\n",
      "13\n",
      "0.047865\n",
      "13\n",
      "0.044886\n",
      "13\n",
      "0.046857\n",
      "13\n",
      "0.044881\n",
      "13\n",
      "0.046876\n",
      "13\n",
      "0.052862\n",
      "13\n",
      "0.046876\n",
      "14\n",
      "0.097735\n",
      "14\n",
      "0.103721\n",
      "14\n",
      "0.09689\n",
      "14\n",
      "0.102695\n",
      "14\n",
      "0.103755\n",
      "14\n",
      "0.095745\n",
      "14\n",
      "0.104826\n",
      "14\n",
      "0.098736\n",
      "14\n",
      "0.098738\n",
      "14\n",
      "0.104722\n",
      "15\n",
      "0.204455\n",
      "15\n",
      "0.211021\n",
      "15\n",
      "0.206031\n",
      "15\n",
      "0.211436\n",
      "15\n",
      "0.209423\n",
      "15\n",
      "0.214509\n",
      "15\n",
      "0.208447\n",
      "15\n",
      "0.201463\n",
      "15\n",
      "0.215599\n",
      "15\n",
      "0.209702\n",
      "16\n",
      "0.443816\n",
      "16\n",
      "0.441045\n",
      "16\n",
      "0.434838\n",
      "16\n",
      "0.443053\n",
      "16\n",
      "0.440938\n",
      "16\n",
      "0.439818\n",
      "16\n",
      "0.436839\n",
      "16\n",
      "0.440361\n",
      "16\n",
      "0.442235\n",
      "16\n",
      "0.440821\n",
      "17\n",
      "0.92952\n",
      "17\n",
      "0.920536\n",
      "17\n",
      "0.902149\n",
      "17\n",
      "0.928621\n",
      "17\n",
      "0.924671\n",
      "17\n",
      "0.909568\n",
      "17\n",
      "0.923495\n",
      "17\n",
      "0.90957\n",
      "17\n",
      "0.905728\n",
      "17\n",
      "0.918708\n",
      "18\n",
      "1.903938\n",
      "18\n",
      "1.881971\n",
      "18\n",
      "1.926844\n",
      "18\n",
      "1.930835\n",
      "18\n",
      "1.915976\n",
      "18\n",
      "1.902878\n",
      "18\n",
      "1.924883\n",
      "18\n",
      "1.913028\n",
      "18\n",
      "1.927843\n",
      "18\n",
      "1.918868\n",
      "19\n",
      "3.981544\n",
      "19\n",
      "4.046406\n",
      "19\n",
      "6.289162\n",
      "19\n",
      "4.121085\n",
      "19\n",
      "4.068116\n",
      "19\n",
      "4.290637\n",
      "19\n",
      "4.241107\n",
      "19\n",
      "4.340544\n",
      "19\n",
      "4.303324\n",
      "19\n",
      "4.297009\n",
      "20\n",
      "8.765416\n",
      "20\n",
      "8.774814\n",
      "20\n",
      "8.915461\n",
      "20\n",
      "9.657669\n",
      "20\n",
      "9.474256\n",
      "20\n",
      "9.976041\n",
      "20\n",
      "9.578545\n",
      "20\n",
      "10.044895\n",
      "20\n",
      "9.784806\n",
      "20\n",
      "9.867499\n",
      "21\n",
      "21.095201\n",
      "21\n",
      "19.05265\n",
      "21\n",
      "18.593478\n",
      "21\n",
      "18.578314\n",
      "21\n",
      "18.408815\n",
      "21\n",
      "18.626966\n",
      "21\n",
      "18.264088\n",
      "21\n",
      "18.581279\n",
      "21\n",
      "25.868419\n",
      "21\n",
      "18.76397\n",
      "22\n",
      "38.390076\n",
      "22\n",
      "44.932313\n",
      "22\n",
      "43.011311\n",
      "22\n",
      "41.006002\n",
      "22\n",
      "39.010656\n",
      "22\n",
      "38.884312\n",
      "22\n",
      "38.987885\n",
      "22\n",
      "39.733683\n",
      "22\n",
      "39.180029\n",
      "22\n",
      "45.964059\n",
      "23\n",
      "80.776268\n",
      "23\n",
      "82.010708\n",
      "23\n",
      "86.874402\n",
      "23\n",
      "82.463865\n",
      "23\n",
      "90.328986\n",
      "23\n",
      "81.256497\n",
      "23\n",
      "81.405322\n",
      "23\n",
      "83.836657\n",
      "23\n",
      "80.324723\n",
      "23\n",
      "81.827895\n"
     ]
    },
    {
     "ename": "KeyboardInterrupt",
     "evalue": "",
     "output_type": "error",
     "traceback": [
      "\u001b[1;31m---------------------------------------------------------------------------\u001b[0m",
      "\u001b[1;31mKeyboardInterrupt\u001b[0m                         Traceback (most recent call last)",
      "\u001b[1;32m<ipython-input-18-e8db05075533>\u001b[0m in \u001b[0;36m<module>\u001b[1;34m\u001b[0m\n\u001b[0;32m      6\u001b[0m         \u001b[0marr\u001b[0m \u001b[1;33m=\u001b[0m \u001b[0malmost_sorted\u001b[0m\u001b[1;33m(\u001b[0m\u001b[1;36m2\u001b[0m\u001b[1;33m**\u001b[0m\u001b[0mk\u001b[0m\u001b[1;33m)\u001b[0m\u001b[1;33m\u001b[0m\u001b[1;33m\u001b[0m\u001b[0m\n\u001b[0;32m      7\u001b[0m         \u001b[0mt1\u001b[0m \u001b[1;33m=\u001b[0m \u001b[0mtime\u001b[0m\u001b[1;33m.\u001b[0m\u001b[0mtime\u001b[0m\u001b[1;33m(\u001b[0m\u001b[1;33m)\u001b[0m\u001b[1;33m\u001b[0m\u001b[1;33m\u001b[0m\u001b[0m\n\u001b[1;32m----> 8\u001b[1;33m         \u001b[0mmergeSort\u001b[0m\u001b[1;33m(\u001b[0m\u001b[0marr\u001b[0m\u001b[1;33m)\u001b[0m\u001b[1;33m\u001b[0m\u001b[1;33m\u001b[0m\u001b[0m\n\u001b[0m\u001b[0;32m      9\u001b[0m         \u001b[0mt2\u001b[0m \u001b[1;33m=\u001b[0m \u001b[0mtime\u001b[0m\u001b[1;33m.\u001b[0m\u001b[0mtime\u001b[0m\u001b[1;33m(\u001b[0m\u001b[1;33m)\u001b[0m\u001b[1;33m\u001b[0m\u001b[1;33m\u001b[0m\u001b[0m\n\u001b[0;32m     10\u001b[0m         \u001b[0mduringtime\u001b[0m\u001b[1;33m=\u001b[0m\u001b[0mround\u001b[0m\u001b[1;33m(\u001b[0m\u001b[0mt2\u001b[0m\u001b[1;33m-\u001b[0m\u001b[0mt1\u001b[0m\u001b[1;33m,\u001b[0m \u001b[1;36m6\u001b[0m\u001b[1;33m)\u001b[0m\u001b[1;33m\u001b[0m\u001b[1;33m\u001b[0m\u001b[0m\n",
      "\u001b[1;32m<ipython-input-2-8374b7885472>\u001b[0m in \u001b[0;36mmergeSort\u001b[1;34m(myList)\u001b[0m\n\u001b[0;32m      6\u001b[0m \u001b[1;33m\u001b[0m\u001b[0m\n\u001b[0;32m      7\u001b[0m         \u001b[1;31m# Recursive call on each half\u001b[0m\u001b[1;33m\u001b[0m\u001b[1;33m\u001b[0m\u001b[1;33m\u001b[0m\u001b[0m\n\u001b[1;32m----> 8\u001b[1;33m         \u001b[0mmergeSort\u001b[0m\u001b[1;33m(\u001b[0m\u001b[0mleft\u001b[0m\u001b[1;33m)\u001b[0m\u001b[1;33m\u001b[0m\u001b[1;33m\u001b[0m\u001b[0m\n\u001b[0m\u001b[0;32m      9\u001b[0m         \u001b[0mmergeSort\u001b[0m\u001b[1;33m(\u001b[0m\u001b[0mright\u001b[0m\u001b[1;33m)\u001b[0m\u001b[1;33m\u001b[0m\u001b[1;33m\u001b[0m\u001b[0m\n\u001b[0;32m     10\u001b[0m \u001b[1;33m\u001b[0m\u001b[0m\n",
      "\u001b[1;32m<ipython-input-2-8374b7885472>\u001b[0m in \u001b[0;36mmergeSort\u001b[1;34m(myList)\u001b[0m\n\u001b[0;32m      6\u001b[0m \u001b[1;33m\u001b[0m\u001b[0m\n\u001b[0;32m      7\u001b[0m         \u001b[1;31m# Recursive call on each half\u001b[0m\u001b[1;33m\u001b[0m\u001b[1;33m\u001b[0m\u001b[1;33m\u001b[0m\u001b[0m\n\u001b[1;32m----> 8\u001b[1;33m         \u001b[0mmergeSort\u001b[0m\u001b[1;33m(\u001b[0m\u001b[0mleft\u001b[0m\u001b[1;33m)\u001b[0m\u001b[1;33m\u001b[0m\u001b[1;33m\u001b[0m\u001b[0m\n\u001b[0m\u001b[0;32m      9\u001b[0m         \u001b[0mmergeSort\u001b[0m\u001b[1;33m(\u001b[0m\u001b[0mright\u001b[0m\u001b[1;33m)\u001b[0m\u001b[1;33m\u001b[0m\u001b[1;33m\u001b[0m\u001b[0m\n\u001b[0;32m     10\u001b[0m \u001b[1;33m\u001b[0m\u001b[0m\n",
      "\u001b[1;32m<ipython-input-2-8374b7885472>\u001b[0m in \u001b[0;36mmergeSort\u001b[1;34m(myList)\u001b[0m\n\u001b[0;32m      6\u001b[0m \u001b[1;33m\u001b[0m\u001b[0m\n\u001b[0;32m      7\u001b[0m         \u001b[1;31m# Recursive call on each half\u001b[0m\u001b[1;33m\u001b[0m\u001b[1;33m\u001b[0m\u001b[1;33m\u001b[0m\u001b[0m\n\u001b[1;32m----> 8\u001b[1;33m         \u001b[0mmergeSort\u001b[0m\u001b[1;33m(\u001b[0m\u001b[0mleft\u001b[0m\u001b[1;33m)\u001b[0m\u001b[1;33m\u001b[0m\u001b[1;33m\u001b[0m\u001b[0m\n\u001b[0m\u001b[0;32m      9\u001b[0m         \u001b[0mmergeSort\u001b[0m\u001b[1;33m(\u001b[0m\u001b[0mright\u001b[0m\u001b[1;33m)\u001b[0m\u001b[1;33m\u001b[0m\u001b[1;33m\u001b[0m\u001b[0m\n\u001b[0;32m     10\u001b[0m \u001b[1;33m\u001b[0m\u001b[0m\n",
      "\u001b[1;32m<ipython-input-2-8374b7885472>\u001b[0m in \u001b[0;36mmergeSort\u001b[1;34m(myList)\u001b[0m\n\u001b[0;32m      7\u001b[0m         \u001b[1;31m# Recursive call on each half\u001b[0m\u001b[1;33m\u001b[0m\u001b[1;33m\u001b[0m\u001b[1;33m\u001b[0m\u001b[0m\n\u001b[0;32m      8\u001b[0m         \u001b[0mmergeSort\u001b[0m\u001b[1;33m(\u001b[0m\u001b[0mleft\u001b[0m\u001b[1;33m)\u001b[0m\u001b[1;33m\u001b[0m\u001b[1;33m\u001b[0m\u001b[0m\n\u001b[1;32m----> 9\u001b[1;33m         \u001b[0mmergeSort\u001b[0m\u001b[1;33m(\u001b[0m\u001b[0mright\u001b[0m\u001b[1;33m)\u001b[0m\u001b[1;33m\u001b[0m\u001b[1;33m\u001b[0m\u001b[0m\n\u001b[0m\u001b[0;32m     10\u001b[0m \u001b[1;33m\u001b[0m\u001b[0m\n\u001b[0;32m     11\u001b[0m         \u001b[1;31m# Two iterators for traversing the two halves\u001b[0m\u001b[1;33m\u001b[0m\u001b[1;33m\u001b[0m\u001b[1;33m\u001b[0m\u001b[0m\n",
      "\u001b[1;32m<ipython-input-2-8374b7885472>\u001b[0m in \u001b[0;36mmergeSort\u001b[1;34m(myList)\u001b[0m\n\u001b[0;32m      6\u001b[0m \u001b[1;33m\u001b[0m\u001b[0m\n\u001b[0;32m      7\u001b[0m         \u001b[1;31m# Recursive call on each half\u001b[0m\u001b[1;33m\u001b[0m\u001b[1;33m\u001b[0m\u001b[1;33m\u001b[0m\u001b[0m\n\u001b[1;32m----> 8\u001b[1;33m         \u001b[0mmergeSort\u001b[0m\u001b[1;33m(\u001b[0m\u001b[0mleft\u001b[0m\u001b[1;33m)\u001b[0m\u001b[1;33m\u001b[0m\u001b[1;33m\u001b[0m\u001b[0m\n\u001b[0m\u001b[0;32m      9\u001b[0m         \u001b[0mmergeSort\u001b[0m\u001b[1;33m(\u001b[0m\u001b[0mright\u001b[0m\u001b[1;33m)\u001b[0m\u001b[1;33m\u001b[0m\u001b[1;33m\u001b[0m\u001b[0m\n\u001b[0;32m     10\u001b[0m \u001b[1;33m\u001b[0m\u001b[0m\n",
      "\u001b[1;32m<ipython-input-2-8374b7885472>\u001b[0m in \u001b[0;36mmergeSort\u001b[1;34m(myList)\u001b[0m\n\u001b[0;32m      6\u001b[0m \u001b[1;33m\u001b[0m\u001b[0m\n\u001b[0;32m      7\u001b[0m         \u001b[1;31m# Recursive call on each half\u001b[0m\u001b[1;33m\u001b[0m\u001b[1;33m\u001b[0m\u001b[1;33m\u001b[0m\u001b[0m\n\u001b[1;32m----> 8\u001b[1;33m         \u001b[0mmergeSort\u001b[0m\u001b[1;33m(\u001b[0m\u001b[0mleft\u001b[0m\u001b[1;33m)\u001b[0m\u001b[1;33m\u001b[0m\u001b[1;33m\u001b[0m\u001b[0m\n\u001b[0m\u001b[0;32m      9\u001b[0m         \u001b[0mmergeSort\u001b[0m\u001b[1;33m(\u001b[0m\u001b[0mright\u001b[0m\u001b[1;33m)\u001b[0m\u001b[1;33m\u001b[0m\u001b[1;33m\u001b[0m\u001b[0m\n\u001b[0;32m     10\u001b[0m \u001b[1;33m\u001b[0m\u001b[0m\n",
      "\u001b[1;32m<ipython-input-2-8374b7885472>\u001b[0m in \u001b[0;36mmergeSort\u001b[1;34m(myList)\u001b[0m\n\u001b[0;32m      6\u001b[0m \u001b[1;33m\u001b[0m\u001b[0m\n\u001b[0;32m      7\u001b[0m         \u001b[1;31m# Recursive call on each half\u001b[0m\u001b[1;33m\u001b[0m\u001b[1;33m\u001b[0m\u001b[1;33m\u001b[0m\u001b[0m\n\u001b[1;32m----> 8\u001b[1;33m         \u001b[0mmergeSort\u001b[0m\u001b[1;33m(\u001b[0m\u001b[0mleft\u001b[0m\u001b[1;33m)\u001b[0m\u001b[1;33m\u001b[0m\u001b[1;33m\u001b[0m\u001b[0m\n\u001b[0m\u001b[0;32m      9\u001b[0m         \u001b[0mmergeSort\u001b[0m\u001b[1;33m(\u001b[0m\u001b[0mright\u001b[0m\u001b[1;33m)\u001b[0m\u001b[1;33m\u001b[0m\u001b[1;33m\u001b[0m\u001b[0m\n\u001b[0;32m     10\u001b[0m \u001b[1;33m\u001b[0m\u001b[0m\n",
      "\u001b[1;32m<ipython-input-2-8374b7885472>\u001b[0m in \u001b[0;36mmergeSort\u001b[1;34m(myList)\u001b[0m\n\u001b[0;32m      7\u001b[0m         \u001b[1;31m# Recursive call on each half\u001b[0m\u001b[1;33m\u001b[0m\u001b[1;33m\u001b[0m\u001b[1;33m\u001b[0m\u001b[0m\n\u001b[0;32m      8\u001b[0m         \u001b[0mmergeSort\u001b[0m\u001b[1;33m(\u001b[0m\u001b[0mleft\u001b[0m\u001b[1;33m)\u001b[0m\u001b[1;33m\u001b[0m\u001b[1;33m\u001b[0m\u001b[0m\n\u001b[1;32m----> 9\u001b[1;33m         \u001b[0mmergeSort\u001b[0m\u001b[1;33m(\u001b[0m\u001b[0mright\u001b[0m\u001b[1;33m)\u001b[0m\u001b[1;33m\u001b[0m\u001b[1;33m\u001b[0m\u001b[0m\n\u001b[0m\u001b[0;32m     10\u001b[0m \u001b[1;33m\u001b[0m\u001b[0m\n\u001b[0;32m     11\u001b[0m         \u001b[1;31m# Two iterators for traversing the two halves\u001b[0m\u001b[1;33m\u001b[0m\u001b[1;33m\u001b[0m\u001b[1;33m\u001b[0m\u001b[0m\n",
      "\u001b[1;32m<ipython-input-2-8374b7885472>\u001b[0m in \u001b[0;36mmergeSort\u001b[1;34m(myList)\u001b[0m\n\u001b[0;32m      6\u001b[0m \u001b[1;33m\u001b[0m\u001b[0m\n\u001b[0;32m      7\u001b[0m         \u001b[1;31m# Recursive call on each half\u001b[0m\u001b[1;33m\u001b[0m\u001b[1;33m\u001b[0m\u001b[1;33m\u001b[0m\u001b[0m\n\u001b[1;32m----> 8\u001b[1;33m         \u001b[0mmergeSort\u001b[0m\u001b[1;33m(\u001b[0m\u001b[0mleft\u001b[0m\u001b[1;33m)\u001b[0m\u001b[1;33m\u001b[0m\u001b[1;33m\u001b[0m\u001b[0m\n\u001b[0m\u001b[0;32m      9\u001b[0m         \u001b[0mmergeSort\u001b[0m\u001b[1;33m(\u001b[0m\u001b[0mright\u001b[0m\u001b[1;33m)\u001b[0m\u001b[1;33m\u001b[0m\u001b[1;33m\u001b[0m\u001b[0m\n\u001b[0;32m     10\u001b[0m \u001b[1;33m\u001b[0m\u001b[0m\n",
      "\u001b[1;32m<ipython-input-2-8374b7885472>\u001b[0m in \u001b[0;36mmergeSort\u001b[1;34m(myList)\u001b[0m\n\u001b[0;32m      7\u001b[0m         \u001b[1;31m# Recursive call on each half\u001b[0m\u001b[1;33m\u001b[0m\u001b[1;33m\u001b[0m\u001b[1;33m\u001b[0m\u001b[0m\n\u001b[0;32m      8\u001b[0m         \u001b[0mmergeSort\u001b[0m\u001b[1;33m(\u001b[0m\u001b[0mleft\u001b[0m\u001b[1;33m)\u001b[0m\u001b[1;33m\u001b[0m\u001b[1;33m\u001b[0m\u001b[0m\n\u001b[1;32m----> 9\u001b[1;33m         \u001b[0mmergeSort\u001b[0m\u001b[1;33m(\u001b[0m\u001b[0mright\u001b[0m\u001b[1;33m)\u001b[0m\u001b[1;33m\u001b[0m\u001b[1;33m\u001b[0m\u001b[0m\n\u001b[0m\u001b[0;32m     10\u001b[0m \u001b[1;33m\u001b[0m\u001b[0m\n\u001b[0;32m     11\u001b[0m         \u001b[1;31m# Two iterators for traversing the two halves\u001b[0m\u001b[1;33m\u001b[0m\u001b[1;33m\u001b[0m\u001b[1;33m\u001b[0m\u001b[0m\n",
      "\u001b[1;32m<ipython-input-2-8374b7885472>\u001b[0m in \u001b[0;36mmergeSort\u001b[1;34m(myList)\u001b[0m\n\u001b[0;32m      7\u001b[0m         \u001b[1;31m# Recursive call on each half\u001b[0m\u001b[1;33m\u001b[0m\u001b[1;33m\u001b[0m\u001b[1;33m\u001b[0m\u001b[0m\n\u001b[0;32m      8\u001b[0m         \u001b[0mmergeSort\u001b[0m\u001b[1;33m(\u001b[0m\u001b[0mleft\u001b[0m\u001b[1;33m)\u001b[0m\u001b[1;33m\u001b[0m\u001b[1;33m\u001b[0m\u001b[0m\n\u001b[1;32m----> 9\u001b[1;33m         \u001b[0mmergeSort\u001b[0m\u001b[1;33m(\u001b[0m\u001b[0mright\u001b[0m\u001b[1;33m)\u001b[0m\u001b[1;33m\u001b[0m\u001b[1;33m\u001b[0m\u001b[0m\n\u001b[0m\u001b[0;32m     10\u001b[0m \u001b[1;33m\u001b[0m\u001b[0m\n\u001b[0;32m     11\u001b[0m         \u001b[1;31m# Two iterators for traversing the two halves\u001b[0m\u001b[1;33m\u001b[0m\u001b[1;33m\u001b[0m\u001b[1;33m\u001b[0m\u001b[0m\n",
      "\u001b[1;32m<ipython-input-2-8374b7885472>\u001b[0m in \u001b[0;36mmergeSort\u001b[1;34m(myList)\u001b[0m\n\u001b[0;32m      6\u001b[0m \u001b[1;33m\u001b[0m\u001b[0m\n\u001b[0;32m      7\u001b[0m         \u001b[1;31m# Recursive call on each half\u001b[0m\u001b[1;33m\u001b[0m\u001b[1;33m\u001b[0m\u001b[1;33m\u001b[0m\u001b[0m\n\u001b[1;32m----> 8\u001b[1;33m         \u001b[0mmergeSort\u001b[0m\u001b[1;33m(\u001b[0m\u001b[0mleft\u001b[0m\u001b[1;33m)\u001b[0m\u001b[1;33m\u001b[0m\u001b[1;33m\u001b[0m\u001b[0m\n\u001b[0m\u001b[0;32m      9\u001b[0m         \u001b[0mmergeSort\u001b[0m\u001b[1;33m(\u001b[0m\u001b[0mright\u001b[0m\u001b[1;33m)\u001b[0m\u001b[1;33m\u001b[0m\u001b[1;33m\u001b[0m\u001b[0m\n\u001b[0;32m     10\u001b[0m \u001b[1;33m\u001b[0m\u001b[0m\n",
      "\u001b[1;32m<ipython-input-2-8374b7885472>\u001b[0m in \u001b[0;36mmergeSort\u001b[1;34m(myList)\u001b[0m\n\u001b[0;32m      7\u001b[0m         \u001b[1;31m# Recursive call on each half\u001b[0m\u001b[1;33m\u001b[0m\u001b[1;33m\u001b[0m\u001b[1;33m\u001b[0m\u001b[0m\n\u001b[0;32m      8\u001b[0m         \u001b[0mmergeSort\u001b[0m\u001b[1;33m(\u001b[0m\u001b[0mleft\u001b[0m\u001b[1;33m)\u001b[0m\u001b[1;33m\u001b[0m\u001b[1;33m\u001b[0m\u001b[0m\n\u001b[1;32m----> 9\u001b[1;33m         \u001b[0mmergeSort\u001b[0m\u001b[1;33m(\u001b[0m\u001b[0mright\u001b[0m\u001b[1;33m)\u001b[0m\u001b[1;33m\u001b[0m\u001b[1;33m\u001b[0m\u001b[0m\n\u001b[0m\u001b[0;32m     10\u001b[0m \u001b[1;33m\u001b[0m\u001b[0m\n\u001b[0;32m     11\u001b[0m         \u001b[1;31m# Two iterators for traversing the two halves\u001b[0m\u001b[1;33m\u001b[0m\u001b[1;33m\u001b[0m\u001b[1;33m\u001b[0m\u001b[0m\n",
      "\u001b[1;32m<ipython-input-2-8374b7885472>\u001b[0m in \u001b[0;36mmergeSort\u001b[1;34m(myList)\u001b[0m\n\u001b[0;32m      7\u001b[0m         \u001b[1;31m# Recursive call on each half\u001b[0m\u001b[1;33m\u001b[0m\u001b[1;33m\u001b[0m\u001b[1;33m\u001b[0m\u001b[0m\n\u001b[0;32m      8\u001b[0m         \u001b[0mmergeSort\u001b[0m\u001b[1;33m(\u001b[0m\u001b[0mleft\u001b[0m\u001b[1;33m)\u001b[0m\u001b[1;33m\u001b[0m\u001b[1;33m\u001b[0m\u001b[0m\n\u001b[1;32m----> 9\u001b[1;33m         \u001b[0mmergeSort\u001b[0m\u001b[1;33m(\u001b[0m\u001b[0mright\u001b[0m\u001b[1;33m)\u001b[0m\u001b[1;33m\u001b[0m\u001b[1;33m\u001b[0m\u001b[0m\n\u001b[0m\u001b[0;32m     10\u001b[0m \u001b[1;33m\u001b[0m\u001b[0m\n\u001b[0;32m     11\u001b[0m         \u001b[1;31m# Two iterators for traversing the two halves\u001b[0m\u001b[1;33m\u001b[0m\u001b[1;33m\u001b[0m\u001b[1;33m\u001b[0m\u001b[0m\n",
      "\u001b[1;32m<ipython-input-2-8374b7885472>\u001b[0m in \u001b[0;36mmergeSort\u001b[1;34m(myList)\u001b[0m\n\u001b[0;32m      7\u001b[0m         \u001b[1;31m# Recursive call on each half\u001b[0m\u001b[1;33m\u001b[0m\u001b[1;33m\u001b[0m\u001b[1;33m\u001b[0m\u001b[0m\n\u001b[0;32m      8\u001b[0m         \u001b[0mmergeSort\u001b[0m\u001b[1;33m(\u001b[0m\u001b[0mleft\u001b[0m\u001b[1;33m)\u001b[0m\u001b[1;33m\u001b[0m\u001b[1;33m\u001b[0m\u001b[0m\n\u001b[1;32m----> 9\u001b[1;33m         \u001b[0mmergeSort\u001b[0m\u001b[1;33m(\u001b[0m\u001b[0mright\u001b[0m\u001b[1;33m)\u001b[0m\u001b[1;33m\u001b[0m\u001b[1;33m\u001b[0m\u001b[0m\n\u001b[0m\u001b[0;32m     10\u001b[0m \u001b[1;33m\u001b[0m\u001b[0m\n\u001b[0;32m     11\u001b[0m         \u001b[1;31m# Two iterators for traversing the two halves\u001b[0m\u001b[1;33m\u001b[0m\u001b[1;33m\u001b[0m\u001b[1;33m\u001b[0m\u001b[0m\n",
      "\u001b[1;32m<ipython-input-2-8374b7885472>\u001b[0m in \u001b[0;36mmergeSort\u001b[1;34m(myList)\u001b[0m\n\u001b[0;32m      7\u001b[0m         \u001b[1;31m# Recursive call on each half\u001b[0m\u001b[1;33m\u001b[0m\u001b[1;33m\u001b[0m\u001b[1;33m\u001b[0m\u001b[0m\n\u001b[0;32m      8\u001b[0m         \u001b[0mmergeSort\u001b[0m\u001b[1;33m(\u001b[0m\u001b[0mleft\u001b[0m\u001b[1;33m)\u001b[0m\u001b[1;33m\u001b[0m\u001b[1;33m\u001b[0m\u001b[0m\n\u001b[1;32m----> 9\u001b[1;33m         \u001b[0mmergeSort\u001b[0m\u001b[1;33m(\u001b[0m\u001b[0mright\u001b[0m\u001b[1;33m)\u001b[0m\u001b[1;33m\u001b[0m\u001b[1;33m\u001b[0m\u001b[0m\n\u001b[0m\u001b[0;32m     10\u001b[0m \u001b[1;33m\u001b[0m\u001b[0m\n\u001b[0;32m     11\u001b[0m         \u001b[1;31m# Two iterators for traversing the two halves\u001b[0m\u001b[1;33m\u001b[0m\u001b[1;33m\u001b[0m\u001b[1;33m\u001b[0m\u001b[0m\n",
      "\u001b[1;32m<ipython-input-2-8374b7885472>\u001b[0m in \u001b[0;36mmergeSort\u001b[1;34m(myList)\u001b[0m\n\u001b[0;32m      6\u001b[0m \u001b[1;33m\u001b[0m\u001b[0m\n\u001b[0;32m      7\u001b[0m         \u001b[1;31m# Recursive call on each half\u001b[0m\u001b[1;33m\u001b[0m\u001b[1;33m\u001b[0m\u001b[1;33m\u001b[0m\u001b[0m\n\u001b[1;32m----> 8\u001b[1;33m         \u001b[0mmergeSort\u001b[0m\u001b[1;33m(\u001b[0m\u001b[0mleft\u001b[0m\u001b[1;33m)\u001b[0m\u001b[1;33m\u001b[0m\u001b[1;33m\u001b[0m\u001b[0m\n\u001b[0m\u001b[0;32m      9\u001b[0m         \u001b[0mmergeSort\u001b[0m\u001b[1;33m(\u001b[0m\u001b[0mright\u001b[0m\u001b[1;33m)\u001b[0m\u001b[1;33m\u001b[0m\u001b[1;33m\u001b[0m\u001b[0m\n\u001b[0;32m     10\u001b[0m \u001b[1;33m\u001b[0m\u001b[0m\n",
      "\u001b[1;32m<ipython-input-2-8374b7885472>\u001b[0m in \u001b[0;36mmergeSort\u001b[1;34m(myList)\u001b[0m\n\u001b[0;32m      7\u001b[0m         \u001b[1;31m# Recursive call on each half\u001b[0m\u001b[1;33m\u001b[0m\u001b[1;33m\u001b[0m\u001b[1;33m\u001b[0m\u001b[0m\n\u001b[0;32m      8\u001b[0m         \u001b[0mmergeSort\u001b[0m\u001b[1;33m(\u001b[0m\u001b[0mleft\u001b[0m\u001b[1;33m)\u001b[0m\u001b[1;33m\u001b[0m\u001b[1;33m\u001b[0m\u001b[0m\n\u001b[1;32m----> 9\u001b[1;33m         \u001b[0mmergeSort\u001b[0m\u001b[1;33m(\u001b[0m\u001b[0mright\u001b[0m\u001b[1;33m)\u001b[0m\u001b[1;33m\u001b[0m\u001b[1;33m\u001b[0m\u001b[0m\n\u001b[0m\u001b[0;32m     10\u001b[0m \u001b[1;33m\u001b[0m\u001b[0m\n\u001b[0;32m     11\u001b[0m         \u001b[1;31m# Two iterators for traversing the two halves\u001b[0m\u001b[1;33m\u001b[0m\u001b[1;33m\u001b[0m\u001b[1;33m\u001b[0m\u001b[0m\n",
      "\u001b[1;32m<ipython-input-2-8374b7885472>\u001b[0m in \u001b[0;36mmergeSort\u001b[1;34m(myList)\u001b[0m\n\u001b[0;32m      6\u001b[0m \u001b[1;33m\u001b[0m\u001b[0m\n\u001b[0;32m      7\u001b[0m         \u001b[1;31m# Recursive call on each half\u001b[0m\u001b[1;33m\u001b[0m\u001b[1;33m\u001b[0m\u001b[1;33m\u001b[0m\u001b[0m\n\u001b[1;32m----> 8\u001b[1;33m         \u001b[0mmergeSort\u001b[0m\u001b[1;33m(\u001b[0m\u001b[0mleft\u001b[0m\u001b[1;33m)\u001b[0m\u001b[1;33m\u001b[0m\u001b[1;33m\u001b[0m\u001b[0m\n\u001b[0m\u001b[0;32m      9\u001b[0m         \u001b[0mmergeSort\u001b[0m\u001b[1;33m(\u001b[0m\u001b[0mright\u001b[0m\u001b[1;33m)\u001b[0m\u001b[1;33m\u001b[0m\u001b[1;33m\u001b[0m\u001b[0m\n\u001b[0;32m     10\u001b[0m \u001b[1;33m\u001b[0m\u001b[0m\n",
      "\u001b[1;32m<ipython-input-2-8374b7885472>\u001b[0m in \u001b[0;36mmergeSort\u001b[1;34m(myList)\u001b[0m\n\u001b[0;32m      7\u001b[0m         \u001b[1;31m# Recursive call on each half\u001b[0m\u001b[1;33m\u001b[0m\u001b[1;33m\u001b[0m\u001b[1;33m\u001b[0m\u001b[0m\n\u001b[0;32m      8\u001b[0m         \u001b[0mmergeSort\u001b[0m\u001b[1;33m(\u001b[0m\u001b[0mleft\u001b[0m\u001b[1;33m)\u001b[0m\u001b[1;33m\u001b[0m\u001b[1;33m\u001b[0m\u001b[0m\n\u001b[1;32m----> 9\u001b[1;33m         \u001b[0mmergeSort\u001b[0m\u001b[1;33m(\u001b[0m\u001b[0mright\u001b[0m\u001b[1;33m)\u001b[0m\u001b[1;33m\u001b[0m\u001b[1;33m\u001b[0m\u001b[0m\n\u001b[0m\u001b[0;32m     10\u001b[0m \u001b[1;33m\u001b[0m\u001b[0m\n\u001b[0;32m     11\u001b[0m         \u001b[1;31m# Two iterators for traversing the two halves\u001b[0m\u001b[1;33m\u001b[0m\u001b[1;33m\u001b[0m\u001b[1;33m\u001b[0m\u001b[0m\n",
      "\u001b[1;32m<ipython-input-2-8374b7885472>\u001b[0m in \u001b[0;36mmergeSort\u001b[1;34m(myList)\u001b[0m\n\u001b[0;32m     35\u001b[0m \u001b[1;33m\u001b[0m\u001b[0m\n\u001b[0;32m     36\u001b[0m         \u001b[1;32mwhile\u001b[0m \u001b[0mj\u001b[0m \u001b[1;33m<\u001b[0m \u001b[0mlen\u001b[0m\u001b[1;33m(\u001b[0m\u001b[0mright\u001b[0m\u001b[1;33m)\u001b[0m\u001b[1;33m:\u001b[0m\u001b[1;33m\u001b[0m\u001b[1;33m\u001b[0m\u001b[0m\n\u001b[1;32m---> 37\u001b[1;33m             \u001b[0mmyList\u001b[0m\u001b[1;33m[\u001b[0m\u001b[0mk\u001b[0m\u001b[1;33m]\u001b[0m\u001b[1;33m=\u001b[0m\u001b[0mright\u001b[0m\u001b[1;33m[\u001b[0m\u001b[0mj\u001b[0m\u001b[1;33m]\u001b[0m\u001b[1;33m\u001b[0m\u001b[1;33m\u001b[0m\u001b[0m\n\u001b[0m\u001b[0;32m     38\u001b[0m             \u001b[0mj\u001b[0m \u001b[1;33m+=\u001b[0m \u001b[1;36m1\u001b[0m\u001b[1;33m\u001b[0m\u001b[1;33m\u001b[0m\u001b[0m\n\u001b[0;32m     39\u001b[0m             \u001b[0mk\u001b[0m \u001b[1;33m+=\u001b[0m \u001b[1;36m1\u001b[0m\u001b[1;33m\u001b[0m\u001b[1;33m\u001b[0m\u001b[0m\n",
      "\u001b[1;31mKeyboardInterrupt\u001b[0m: "
     ]
    }
   ],
   "source": [
    "Mergesort_timesave_mean = np.array([])\n",
    "print('Merge Sort')\n",
    "for k in range(10,31):\n",
    "    timesave = np.array([])\n",
    "    for i in range(1,11):\n",
    "        arr = almost_sorted(2**k)\n",
    "        t1 = time.time()\n",
    "        mergeSort(arr)\n",
    "        t2 = time.time()\n",
    "        duringtime=round(t2-t1, 6)\n",
    "        timesave = np.append(timesave,duringtime)\n",
    "        print(k)\n",
    "        print(duringtime)\n",
    "    Mergesort_timesave_mean = np.append(Mergesort_timesave_mean,np.mean(timesave))"
   ]
  },
  {
   "cell_type": "markdown",
   "metadata": {},
   "source": [
    "### Insertion Sort 執行"
   ]
  },
  {
   "cell_type": "code",
   "execution_count": 21,
   "metadata": {},
   "outputs": [
    {
     "name": "stdout",
     "output_type": "stream",
     "text": [
      "Insertion Sort\n",
      "10\n",
      "0.013963\n",
      "10\n",
      "0.012967\n",
      "10\n",
      "0.018954\n",
      "10\n",
      "0.015954\n",
      "10\n",
      "0.012001\n",
      "10\n",
      "0.012965\n",
      "10\n",
      "0.012008\n",
      "10\n",
      "0.00997\n",
      "10\n",
      "0.008978\n",
      "10\n",
      "0.009977\n",
      "11\n",
      "0.019948\n",
      "11\n",
      "0.019944\n",
      "11\n",
      "0.020947\n",
      "11\n",
      "0.01993\n",
      "11\n",
      "0.019947\n",
      "11\n",
      "0.018952\n",
      "11\n",
      "0.021941\n",
      "11\n",
      "0.019913\n",
      "11\n",
      "0.023959\n",
      "11\n",
      "0.020943\n",
      "12\n",
      "0.039893\n",
      "12\n",
      "0.047873\n",
      "12\n",
      "0.045876\n",
      "12\n",
      "0.043886\n",
      "12\n",
      "0.059858\n",
      "12\n",
      "0.053842\n",
      "12\n",
      "0.045874\n",
      "12\n",
      "0.042888\n",
      "12\n",
      "0.050861\n",
      "12\n",
      "0.056844\n",
      "13\n",
      "0.101735\n",
      "13\n",
      "0.113697\n",
      "13\n",
      "0.104665\n",
      "13\n",
      "0.103029\n",
      "13\n",
      "0.11968\n",
      "13\n",
      "0.095058\n",
      "13\n",
      "0.112698\n",
      "13\n",
      "0.112814\n",
      "13\n",
      "0.110702\n",
      "13\n",
      "0.122672\n",
      "14\n",
      "0.240364\n",
      "14\n",
      "0.284232\n",
      "14\n",
      "0.254333\n",
      "14\n",
      "0.314159\n",
      "14\n",
      "0.227392\n",
      "14\n",
      "0.265258\n",
      "14\n",
      "0.247338\n",
      "14\n",
      "0.217624\n",
      "14\n",
      "0.231376\n",
      "14\n",
      "0.245347\n",
      "15\n",
      "0.426069\n",
      "15\n",
      "0.461832\n",
      "15\n",
      "0.477839\n",
      "15\n",
      "0.449794\n",
      "15\n",
      "0.462864\n",
      "15\n",
      "0.405146\n",
      "15\n",
      "0.460733\n",
      "15\n",
      "0.501769\n",
      "15\n",
      "0.508733\n",
      "15\n",
      "0.502668\n",
      "16\n",
      "1.056211\n",
      "16\n",
      "0.993445\n",
      "16\n",
      "0.967434\n",
      "16\n",
      "1.12122\n",
      "16\n",
      "0.959681\n",
      "16\n",
      "1.072129\n",
      "16\n",
      "1.220786\n",
      "16\n",
      "0.973757\n",
      "16\n",
      "1.116979\n",
      "16\n",
      "0.961627\n",
      "17\n",
      "1.941774\n",
      "17\n",
      "3.047864\n",
      "17\n",
      "1.783615\n",
      "17\n",
      "1.828158\n",
      "17\n",
      "2.020775\n",
      "17\n",
      "1.95792\n",
      "17\n",
      "1.829399\n",
      "17\n",
      "1.979705\n",
      "17\n",
      "1.952059\n",
      "17\n",
      "1.816398\n",
      "18\n",
      "3.790857\n",
      "18\n",
      "3.90671\n",
      "18\n",
      "3.713223\n",
      "18\n",
      "5.243145\n",
      "18\n",
      "5.947636\n",
      "18\n",
      "3.846353\n",
      "18\n",
      "4.053734\n",
      "18\n",
      "4.113252\n",
      "18\n",
      "3.921629\n",
      "18\n",
      "3.976935\n",
      "19\n",
      "7.995739\n",
      "19\n",
      "7.865243\n",
      "19\n",
      "8.476535\n",
      "19\n",
      "8.107772\n",
      "19\n",
      "8.083999\n",
      "19\n",
      "7.630879\n",
      "19\n",
      "8.626823\n",
      "19\n",
      "8.247904\n",
      "19\n",
      "7.791233\n",
      "19\n",
      "7.86601\n",
      "20\n",
      "17.088239\n",
      "20\n",
      "16.144604\n",
      "20\n",
      "18.231272\n",
      "20\n",
      "15.188979\n",
      "20\n",
      "15.865113\n",
      "20\n",
      "14.935704\n",
      "20\n",
      "15.588735\n",
      "20\n",
      "14.736598\n",
      "20\n",
      "16.720974\n",
      "20\n",
      "14.810952\n",
      "21\n",
      "31.297735\n",
      "21\n",
      "30.155089\n",
      "21\n",
      "32.271739\n",
      "21\n",
      "28.937382\n",
      "21\n",
      "34.731857\n",
      "21\n",
      "35.700517\n",
      "21\n",
      "31.711012\n",
      "21\n",
      "37.178813\n",
      "21\n",
      "37.263145\n",
      "21\n",
      "32.162211\n",
      "22\n",
      "65.228536\n",
      "22\n",
      "66.300181\n",
      "22\n",
      "73.609549\n",
      "22\n",
      "66.139056\n",
      "22\n",
      "72.013283\n",
      "22\n",
      "65.52177\n",
      "22\n",
      "63.871469\n",
      "22\n",
      "64.956772\n",
      "22\n",
      "77.619465\n",
      "22\n",
      "63.764673\n"
     ]
    },
    {
     "ename": "KeyboardInterrupt",
     "evalue": "",
     "output_type": "error",
     "traceback": [
      "\u001b[1;31m---------------------------------------------------------------------------\u001b[0m",
      "\u001b[1;31mKeyboardInterrupt\u001b[0m                         Traceback (most recent call last)",
      "\u001b[1;32m<ipython-input-21-c084687aa2ca>\u001b[0m in \u001b[0;36m<module>\u001b[1;34m\u001b[0m\n\u001b[0;32m      6\u001b[0m         \u001b[0marr\u001b[0m \u001b[1;33m=\u001b[0m \u001b[0malmost_sorted\u001b[0m\u001b[1;33m(\u001b[0m\u001b[1;36m2\u001b[0m\u001b[1;33m**\u001b[0m\u001b[0mk\u001b[0m\u001b[1;33m)\u001b[0m\u001b[1;33m\u001b[0m\u001b[1;33m\u001b[0m\u001b[0m\n\u001b[0;32m      7\u001b[0m         \u001b[0mt1\u001b[0m \u001b[1;33m=\u001b[0m \u001b[0mtime\u001b[0m\u001b[1;33m.\u001b[0m\u001b[0mtime\u001b[0m\u001b[1;33m(\u001b[0m\u001b[1;33m)\u001b[0m\u001b[1;33m\u001b[0m\u001b[1;33m\u001b[0m\u001b[0m\n\u001b[1;32m----> 8\u001b[1;33m         \u001b[0msorted_arr\u001b[0m \u001b[1;33m=\u001b[0m \u001b[0minsertionSort\u001b[0m\u001b[1;33m(\u001b[0m\u001b[0marr\u001b[0m\u001b[1;33m)\u001b[0m\u001b[1;33m\u001b[0m\u001b[1;33m\u001b[0m\u001b[0m\n\u001b[0m\u001b[0;32m      9\u001b[0m         \u001b[0mt2\u001b[0m \u001b[1;33m=\u001b[0m \u001b[0mtime\u001b[0m\u001b[1;33m.\u001b[0m\u001b[0mtime\u001b[0m\u001b[1;33m(\u001b[0m\u001b[1;33m)\u001b[0m\u001b[1;33m\u001b[0m\u001b[1;33m\u001b[0m\u001b[0m\n\u001b[0;32m     10\u001b[0m         \u001b[0mduringtime\u001b[0m\u001b[1;33m=\u001b[0m\u001b[0mround\u001b[0m\u001b[1;33m(\u001b[0m\u001b[0mt2\u001b[0m\u001b[1;33m-\u001b[0m\u001b[0mt1\u001b[0m\u001b[1;33m,\u001b[0m \u001b[1;36m6\u001b[0m\u001b[1;33m)\u001b[0m\u001b[1;33m\u001b[0m\u001b[1;33m\u001b[0m\u001b[0m\n",
      "\u001b[1;32m<ipython-input-3-4997dcd6bc89>\u001b[0m in \u001b[0;36minsertionSort\u001b[1;34m(arr)\u001b[0m\n\u001b[0;32m     10\u001b[0m         \u001b[1;31m# of their current position\u001b[0m\u001b[1;33m\u001b[0m\u001b[1;33m\u001b[0m\u001b[1;33m\u001b[0m\u001b[0m\n\u001b[0;32m     11\u001b[0m         \u001b[0mj\u001b[0m \u001b[1;33m=\u001b[0m \u001b[0mi\u001b[0m\u001b[1;33m-\u001b[0m\u001b[1;36m1\u001b[0m\u001b[1;33m\u001b[0m\u001b[1;33m\u001b[0m\u001b[0m\n\u001b[1;32m---> 12\u001b[1;33m         \u001b[1;32mwhile\u001b[0m \u001b[0mj\u001b[0m \u001b[1;33m>=\u001b[0m\u001b[1;36m0\u001b[0m \u001b[1;32mand\u001b[0m \u001b[0mkey\u001b[0m \u001b[1;33m<\u001b[0m \u001b[0marr\u001b[0m\u001b[1;33m[\u001b[0m\u001b[0mj\u001b[0m\u001b[1;33m]\u001b[0m \u001b[1;33m:\u001b[0m\u001b[1;33m\u001b[0m\u001b[1;33m\u001b[0m\u001b[0m\n\u001b[0m\u001b[0;32m     13\u001b[0m                 \u001b[0marr\u001b[0m\u001b[1;33m[\u001b[0m\u001b[0mj\u001b[0m\u001b[1;33m+\u001b[0m\u001b[1;36m1\u001b[0m\u001b[1;33m]\u001b[0m \u001b[1;33m=\u001b[0m \u001b[0marr\u001b[0m\u001b[1;33m[\u001b[0m\u001b[0mj\u001b[0m\u001b[1;33m]\u001b[0m\u001b[1;33m\u001b[0m\u001b[1;33m\u001b[0m\u001b[0m\n\u001b[0;32m     14\u001b[0m                 \u001b[0mj\u001b[0m \u001b[1;33m-=\u001b[0m \u001b[1;36m1\u001b[0m\u001b[1;33m\u001b[0m\u001b[1;33m\u001b[0m\u001b[0m\n",
      "\u001b[1;31mKeyboardInterrupt\u001b[0m: "
     ]
    }
   ],
   "source": [
    "insertionSort_timesave_mean = np.array([])\n",
    "print('Insertion Sort')\n",
    "for k in range(10,31):\n",
    "    timesave = np.array([])\n",
    "    for i in range(1,11):\n",
    "        arr = almost_sorted(2**k)\n",
    "        t1 = time.time()\n",
    "        sorted_arr = insertionSort(arr)\n",
    "        t2 = time.time()\n",
    "        duringtime=round(t2-t1, 6)\n",
    "        timesave = np.append(timesave,duringtime)\n",
    "        print(k)\n",
    "        print(duringtime)\n",
    "    insertionSort_timesave_mean = np.append(insertionSort_timesave_mean,np.mean(timesave))\n"
   ]
  },
  {
   "cell_type": "markdown",
   "metadata": {},
   "source": [
    "### Randomized quick sort 執行"
   ]
  },
  {
   "cell_type": "code",
   "execution_count": 23,
   "metadata": {},
   "outputs": [
    {
     "name": "stdout",
     "output_type": "stream",
     "text": [
      "Randomized quick sort\n",
      "10\n",
      "0.008009\n",
      "10\n",
      "0.006495\n",
      "10\n",
      "0.006008\n",
      "10\n",
      "0.009984\n",
      "10\n",
      "0.010951\n",
      "10\n",
      "0.007976\n",
      "10\n",
      "0.007977\n",
      "10\n",
      "0.007012\n",
      "10\n",
      "0.006979\n",
      "10\n",
      "0.006984\n",
      "11\n",
      "0.01496\n",
      "11\n",
      "0.012932\n",
      "11\n",
      "0.010971\n",
      "11\n",
      "0.011968\n",
      "11\n",
      "0.01214\n",
      "11\n",
      "0.01097\n",
      "11\n",
      "0.011218\n",
      "11\n",
      "0.013097\n",
      "11\n",
      "0.010966\n",
      "11\n",
      "0.012971\n",
      "12\n",
      "0.02796\n",
      "12\n",
      "0.024933\n",
      "12\n",
      "0.023938\n",
      "12\n",
      "0.022937\n",
      "12\n",
      "0.025935\n",
      "12\n",
      "0.024933\n",
      "12\n",
      "0.02493\n",
      "12\n",
      "0.024938\n",
      "12\n",
      "0.023937\n",
      "12\n",
      "0.031915\n",
      "13\n",
      "0.05784\n",
      "13\n",
      "0.052859\n",
      "13\n",
      "0.053847\n",
      "13\n",
      "0.063866\n",
      "13\n",
      "0.058843\n",
      "13\n",
      "0.052862\n",
      "13\n",
      "0.053856\n",
      "13\n",
      "0.055851\n",
      "13\n",
      "0.049867\n",
      "13\n",
      "0.050864\n",
      "14\n",
      "0.114735\n",
      "14\n",
      "0.139585\n",
      "14\n",
      "0.124674\n",
      "14\n",
      "0.107893\n",
      "14\n",
      "0.105833\n",
      "14\n",
      "0.114698\n",
      "14\n",
      "0.109701\n",
      "14\n",
      "0.122705\n",
      "14\n",
      "0.105722\n",
      "14\n",
      "0.108706\n",
      "15\n",
      "0.242405\n",
      "15\n",
      "0.232423\n",
      "15\n",
      "0.254358\n",
      "15\n",
      "0.236039\n",
      "15\n",
      "0.239365\n",
      "15\n",
      "0.235366\n",
      "15\n",
      "0.237402\n",
      "15\n",
      "0.267287\n",
      "15\n",
      "0.254498\n",
      "15\n",
      "0.245347\n",
      "16\n",
      "0.516583\n",
      "16\n",
      "0.494673\n",
      "16\n",
      "0.559079\n",
      "16\n",
      "0.534707\n",
      "16\n",
      "0.481714\n",
      "16\n",
      "0.482713\n",
      "16\n",
      "0.523602\n",
      "16\n",
      "0.503653\n",
      "16\n",
      "0.49468\n",
      "16\n",
      "0.500659\n",
      "17\n",
      "1.063121\n",
      "17\n",
      "1.08821\n",
      "17\n",
      "1.044249\n",
      "17\n",
      "1.018462\n",
      "17\n",
      "1.079081\n",
      "17\n",
      "1.098032\n",
      "17\n",
      "1.017457\n",
      "17\n",
      "1.044383\n",
      "17\n",
      "1.085242\n",
      "17\n",
      "1.08418\n",
      "18\n",
      "2.117481\n",
      "18\n",
      "2.143235\n",
      "18\n",
      "2.277095\n",
      "18\n",
      "2.094395\n",
      "18\n",
      "2.13544\n",
      "18\n",
      "2.119072\n",
      "18\n",
      "2.211228\n",
      "18\n",
      "2.19094\n",
      "18\n",
      "2.188295\n",
      "18\n",
      "2.169501\n",
      "19\n",
      "4.684666\n",
      "19\n",
      "4.806122\n",
      "19\n",
      "4.75777\n",
      "19\n",
      "4.849196\n",
      "19\n",
      "4.850937\n",
      "19\n",
      "4.687258\n",
      "19\n",
      "4.913543\n",
      "19\n",
      "4.636771\n",
      "19\n",
      "4.883249\n",
      "19\n",
      "5.375923\n",
      "20\n",
      "10.197716\n",
      "20\n",
      "9.907858\n",
      "20\n",
      "11.325311\n",
      "20\n",
      "10.180722\n",
      "20\n",
      "9.925438\n",
      "20\n",
      "9.953021\n",
      "20\n",
      "9.972369\n",
      "20\n",
      "10.44417\n",
      "20\n",
      "10.094351\n",
      "20\n",
      "10.603283\n",
      "21\n",
      "21.806288\n",
      "21\n",
      "21.162581\n",
      "21\n",
      "20.753061\n",
      "21\n",
      "21.788978\n",
      "21\n",
      "22.225316\n",
      "21\n",
      "20.665529\n",
      "21\n",
      "21.526359\n",
      "21\n",
      "24.356901\n",
      "21\n",
      "20.831372\n",
      "21\n",
      "22.219599\n",
      "22\n",
      "43.020326\n",
      "22\n",
      "44.189206\n",
      "22\n",
      "44.562762\n",
      "22\n",
      "48.303187\n",
      "22\n",
      "44.499347\n",
      "22\n",
      "46.740556\n",
      "22\n",
      "45.3116\n",
      "22\n",
      "43.495956\n",
      "22\n",
      "48.516927\n",
      "22\n",
      "43.242043\n"
     ]
    },
    {
     "ename": "KeyboardInterrupt",
     "evalue": "",
     "output_type": "error",
     "traceback": [
      "\u001b[1;31m---------------------------------------------------------------------------\u001b[0m",
      "\u001b[1;31mKeyboardInterrupt\u001b[0m                         Traceback (most recent call last)",
      "\u001b[1;32m<ipython-input-23-5205c05b06fe>\u001b[0m in \u001b[0;36m<module>\u001b[1;34m\u001b[0m\n\u001b[0;32m      6\u001b[0m         \u001b[0marr\u001b[0m \u001b[1;33m=\u001b[0m \u001b[0malmost_sorted\u001b[0m\u001b[1;33m(\u001b[0m\u001b[1;36m2\u001b[0m\u001b[1;33m**\u001b[0m\u001b[0mk\u001b[0m\u001b[1;33m)\u001b[0m\u001b[1;33m\u001b[0m\u001b[1;33m\u001b[0m\u001b[0m\n\u001b[0;32m      7\u001b[0m         \u001b[0mt1\u001b[0m \u001b[1;33m=\u001b[0m \u001b[0mtime\u001b[0m\u001b[1;33m.\u001b[0m\u001b[0mtime\u001b[0m\u001b[1;33m(\u001b[0m\u001b[1;33m)\u001b[0m\u001b[1;33m\u001b[0m\u001b[1;33m\u001b[0m\u001b[0m\n\u001b[1;32m----> 8\u001b[1;33m         \u001b[0mquicksort\u001b[0m\u001b[1;33m(\u001b[0m\u001b[0marr\u001b[0m\u001b[1;33m,\u001b[0m\u001b[1;36m0\u001b[0m\u001b[1;33m,\u001b[0m\u001b[0mlen\u001b[0m\u001b[1;33m(\u001b[0m\u001b[0marr\u001b[0m\u001b[1;33m)\u001b[0m\u001b[1;33m-\u001b[0m\u001b[1;36m1\u001b[0m\u001b[1;33m)\u001b[0m\u001b[1;33m\u001b[0m\u001b[1;33m\u001b[0m\u001b[0m\n\u001b[0m\u001b[0;32m      9\u001b[0m         \u001b[0mt2\u001b[0m \u001b[1;33m=\u001b[0m \u001b[0mtime\u001b[0m\u001b[1;33m.\u001b[0m\u001b[0mtime\u001b[0m\u001b[1;33m(\u001b[0m\u001b[1;33m)\u001b[0m\u001b[1;33m\u001b[0m\u001b[1;33m\u001b[0m\u001b[0m\n\u001b[0;32m     10\u001b[0m         \u001b[0mduringtime\u001b[0m\u001b[1;33m=\u001b[0m\u001b[0mround\u001b[0m\u001b[1;33m(\u001b[0m\u001b[0mt2\u001b[0m\u001b[1;33m-\u001b[0m\u001b[0mt1\u001b[0m\u001b[1;33m,\u001b[0m \u001b[1;36m6\u001b[0m\u001b[1;33m)\u001b[0m\u001b[1;33m\u001b[0m\u001b[1;33m\u001b[0m\u001b[0m\n",
      "\u001b[1;32m<ipython-input-4-a2bfedad30ac>\u001b[0m in \u001b[0;36mquicksort\u001b[1;34m(arr, start, stop)\u001b[0m\n\u001b[0;32m      9\u001b[0m     \u001b[1;32mif\u001b[0m\u001b[1;33m(\u001b[0m\u001b[0mstart\u001b[0m \u001b[1;33m<\u001b[0m \u001b[0mstop\u001b[0m\u001b[1;33m)\u001b[0m\u001b[1;33m:\u001b[0m\u001b[1;33m\u001b[0m\u001b[1;33m\u001b[0m\u001b[0m\n\u001b[0;32m     10\u001b[0m         \u001b[0mpivotindex\u001b[0m \u001b[1;33m=\u001b[0m \u001b[0mpartitionrand\u001b[0m\u001b[1;33m(\u001b[0m\u001b[0marr\u001b[0m\u001b[1;33m,\u001b[0m \u001b[0mstart\u001b[0m\u001b[1;33m,\u001b[0m \u001b[0mstop\u001b[0m\u001b[1;33m)\u001b[0m\u001b[1;33m\u001b[0m\u001b[1;33m\u001b[0m\u001b[0m\n\u001b[1;32m---> 11\u001b[1;33m         \u001b[0mquicksort\u001b[0m\u001b[1;33m(\u001b[0m\u001b[0marr\u001b[0m \u001b[1;33m,\u001b[0m \u001b[0mstart\u001b[0m \u001b[1;33m,\u001b[0m \u001b[0mpivotindex\u001b[0m \u001b[1;33m-\u001b[0m \u001b[1;36m1\u001b[0m\u001b[1;33m)\u001b[0m\u001b[1;33m\u001b[0m\u001b[1;33m\u001b[0m\u001b[0m\n\u001b[0m\u001b[0;32m     12\u001b[0m         \u001b[0mquicksort\u001b[0m\u001b[1;33m(\u001b[0m\u001b[0marr\u001b[0m\u001b[1;33m,\u001b[0m \u001b[0mpivotindex\u001b[0m \u001b[1;33m+\u001b[0m \u001b[1;36m1\u001b[0m\u001b[1;33m,\u001b[0m \u001b[0mstop\u001b[0m\u001b[1;33m)\u001b[0m\u001b[1;33m\u001b[0m\u001b[1;33m\u001b[0m\u001b[0m\n\u001b[0;32m     13\u001b[0m \u001b[1;32mdef\u001b[0m \u001b[0mpartitionrand\u001b[0m\u001b[1;33m(\u001b[0m\u001b[0marr\u001b[0m \u001b[1;33m,\u001b[0m \u001b[0mstart\u001b[0m\u001b[1;33m,\u001b[0m \u001b[0mstop\u001b[0m\u001b[1;33m)\u001b[0m\u001b[1;33m:\u001b[0m\u001b[1;33m\u001b[0m\u001b[1;33m\u001b[0m\u001b[0m\n",
      "\u001b[1;32m<ipython-input-4-a2bfedad30ac>\u001b[0m in \u001b[0;36mquicksort\u001b[1;34m(arr, start, stop)\u001b[0m\n\u001b[0;32m     10\u001b[0m         \u001b[0mpivotindex\u001b[0m \u001b[1;33m=\u001b[0m \u001b[0mpartitionrand\u001b[0m\u001b[1;33m(\u001b[0m\u001b[0marr\u001b[0m\u001b[1;33m,\u001b[0m \u001b[0mstart\u001b[0m\u001b[1;33m,\u001b[0m \u001b[0mstop\u001b[0m\u001b[1;33m)\u001b[0m\u001b[1;33m\u001b[0m\u001b[1;33m\u001b[0m\u001b[0m\n\u001b[0;32m     11\u001b[0m         \u001b[0mquicksort\u001b[0m\u001b[1;33m(\u001b[0m\u001b[0marr\u001b[0m \u001b[1;33m,\u001b[0m \u001b[0mstart\u001b[0m \u001b[1;33m,\u001b[0m \u001b[0mpivotindex\u001b[0m \u001b[1;33m-\u001b[0m \u001b[1;36m1\u001b[0m\u001b[1;33m)\u001b[0m\u001b[1;33m\u001b[0m\u001b[1;33m\u001b[0m\u001b[0m\n\u001b[1;32m---> 12\u001b[1;33m         \u001b[0mquicksort\u001b[0m\u001b[1;33m(\u001b[0m\u001b[0marr\u001b[0m\u001b[1;33m,\u001b[0m \u001b[0mpivotindex\u001b[0m \u001b[1;33m+\u001b[0m \u001b[1;36m1\u001b[0m\u001b[1;33m,\u001b[0m \u001b[0mstop\u001b[0m\u001b[1;33m)\u001b[0m\u001b[1;33m\u001b[0m\u001b[1;33m\u001b[0m\u001b[0m\n\u001b[0m\u001b[0;32m     13\u001b[0m \u001b[1;32mdef\u001b[0m \u001b[0mpartitionrand\u001b[0m\u001b[1;33m(\u001b[0m\u001b[0marr\u001b[0m \u001b[1;33m,\u001b[0m \u001b[0mstart\u001b[0m\u001b[1;33m,\u001b[0m \u001b[0mstop\u001b[0m\u001b[1;33m)\u001b[0m\u001b[1;33m:\u001b[0m\u001b[1;33m\u001b[0m\u001b[1;33m\u001b[0m\u001b[0m\n\u001b[0;32m     14\u001b[0m     \u001b[0mrandpivot\u001b[0m \u001b[1;33m=\u001b[0m \u001b[0mrandom\u001b[0m\u001b[1;33m.\u001b[0m\u001b[0mrandrange\u001b[0m\u001b[1;33m(\u001b[0m\u001b[0mstart\u001b[0m\u001b[1;33m,\u001b[0m \u001b[0mstop\u001b[0m\u001b[1;33m)\u001b[0m\u001b[1;33m\u001b[0m\u001b[1;33m\u001b[0m\u001b[0m\n",
      "\u001b[1;32m<ipython-input-4-a2bfedad30ac>\u001b[0m in \u001b[0;36mquicksort\u001b[1;34m(arr, start, stop)\u001b[0m\n\u001b[0;32m     10\u001b[0m         \u001b[0mpivotindex\u001b[0m \u001b[1;33m=\u001b[0m \u001b[0mpartitionrand\u001b[0m\u001b[1;33m(\u001b[0m\u001b[0marr\u001b[0m\u001b[1;33m,\u001b[0m \u001b[0mstart\u001b[0m\u001b[1;33m,\u001b[0m \u001b[0mstop\u001b[0m\u001b[1;33m)\u001b[0m\u001b[1;33m\u001b[0m\u001b[1;33m\u001b[0m\u001b[0m\n\u001b[0;32m     11\u001b[0m         \u001b[0mquicksort\u001b[0m\u001b[1;33m(\u001b[0m\u001b[0marr\u001b[0m \u001b[1;33m,\u001b[0m \u001b[0mstart\u001b[0m \u001b[1;33m,\u001b[0m \u001b[0mpivotindex\u001b[0m \u001b[1;33m-\u001b[0m \u001b[1;36m1\u001b[0m\u001b[1;33m)\u001b[0m\u001b[1;33m\u001b[0m\u001b[1;33m\u001b[0m\u001b[0m\n\u001b[1;32m---> 12\u001b[1;33m         \u001b[0mquicksort\u001b[0m\u001b[1;33m(\u001b[0m\u001b[0marr\u001b[0m\u001b[1;33m,\u001b[0m \u001b[0mpivotindex\u001b[0m \u001b[1;33m+\u001b[0m \u001b[1;36m1\u001b[0m\u001b[1;33m,\u001b[0m \u001b[0mstop\u001b[0m\u001b[1;33m)\u001b[0m\u001b[1;33m\u001b[0m\u001b[1;33m\u001b[0m\u001b[0m\n\u001b[0m\u001b[0;32m     13\u001b[0m \u001b[1;32mdef\u001b[0m \u001b[0mpartitionrand\u001b[0m\u001b[1;33m(\u001b[0m\u001b[0marr\u001b[0m \u001b[1;33m,\u001b[0m \u001b[0mstart\u001b[0m\u001b[1;33m,\u001b[0m \u001b[0mstop\u001b[0m\u001b[1;33m)\u001b[0m\u001b[1;33m:\u001b[0m\u001b[1;33m\u001b[0m\u001b[1;33m\u001b[0m\u001b[0m\n\u001b[0;32m     14\u001b[0m     \u001b[0mrandpivot\u001b[0m \u001b[1;33m=\u001b[0m \u001b[0mrandom\u001b[0m\u001b[1;33m.\u001b[0m\u001b[0mrandrange\u001b[0m\u001b[1;33m(\u001b[0m\u001b[0mstart\u001b[0m\u001b[1;33m,\u001b[0m \u001b[0mstop\u001b[0m\u001b[1;33m)\u001b[0m\u001b[1;33m\u001b[0m\u001b[1;33m\u001b[0m\u001b[0m\n",
      "\u001b[1;32m<ipython-input-4-a2bfedad30ac>\u001b[0m in \u001b[0;36mquicksort\u001b[1;34m(arr, start, stop)\u001b[0m\n\u001b[0;32m      9\u001b[0m     \u001b[1;32mif\u001b[0m\u001b[1;33m(\u001b[0m\u001b[0mstart\u001b[0m \u001b[1;33m<\u001b[0m \u001b[0mstop\u001b[0m\u001b[1;33m)\u001b[0m\u001b[1;33m:\u001b[0m\u001b[1;33m\u001b[0m\u001b[1;33m\u001b[0m\u001b[0m\n\u001b[0;32m     10\u001b[0m         \u001b[0mpivotindex\u001b[0m \u001b[1;33m=\u001b[0m \u001b[0mpartitionrand\u001b[0m\u001b[1;33m(\u001b[0m\u001b[0marr\u001b[0m\u001b[1;33m,\u001b[0m \u001b[0mstart\u001b[0m\u001b[1;33m,\u001b[0m \u001b[0mstop\u001b[0m\u001b[1;33m)\u001b[0m\u001b[1;33m\u001b[0m\u001b[1;33m\u001b[0m\u001b[0m\n\u001b[1;32m---> 11\u001b[1;33m         \u001b[0mquicksort\u001b[0m\u001b[1;33m(\u001b[0m\u001b[0marr\u001b[0m \u001b[1;33m,\u001b[0m \u001b[0mstart\u001b[0m \u001b[1;33m,\u001b[0m \u001b[0mpivotindex\u001b[0m \u001b[1;33m-\u001b[0m \u001b[1;36m1\u001b[0m\u001b[1;33m)\u001b[0m\u001b[1;33m\u001b[0m\u001b[1;33m\u001b[0m\u001b[0m\n\u001b[0m\u001b[0;32m     12\u001b[0m         \u001b[0mquicksort\u001b[0m\u001b[1;33m(\u001b[0m\u001b[0marr\u001b[0m\u001b[1;33m,\u001b[0m \u001b[0mpivotindex\u001b[0m \u001b[1;33m+\u001b[0m \u001b[1;36m1\u001b[0m\u001b[1;33m,\u001b[0m \u001b[0mstop\u001b[0m\u001b[1;33m)\u001b[0m\u001b[1;33m\u001b[0m\u001b[1;33m\u001b[0m\u001b[0m\n\u001b[0;32m     13\u001b[0m \u001b[1;32mdef\u001b[0m \u001b[0mpartitionrand\u001b[0m\u001b[1;33m(\u001b[0m\u001b[0marr\u001b[0m \u001b[1;33m,\u001b[0m \u001b[0mstart\u001b[0m\u001b[1;33m,\u001b[0m \u001b[0mstop\u001b[0m\u001b[1;33m)\u001b[0m\u001b[1;33m:\u001b[0m\u001b[1;33m\u001b[0m\u001b[1;33m\u001b[0m\u001b[0m\n",
      "\u001b[1;32m<ipython-input-4-a2bfedad30ac>\u001b[0m in \u001b[0;36mquicksort\u001b[1;34m(arr, start, stop)\u001b[0m\n\u001b[0;32m     10\u001b[0m         \u001b[0mpivotindex\u001b[0m \u001b[1;33m=\u001b[0m \u001b[0mpartitionrand\u001b[0m\u001b[1;33m(\u001b[0m\u001b[0marr\u001b[0m\u001b[1;33m,\u001b[0m \u001b[0mstart\u001b[0m\u001b[1;33m,\u001b[0m \u001b[0mstop\u001b[0m\u001b[1;33m)\u001b[0m\u001b[1;33m\u001b[0m\u001b[1;33m\u001b[0m\u001b[0m\n\u001b[0;32m     11\u001b[0m         \u001b[0mquicksort\u001b[0m\u001b[1;33m(\u001b[0m\u001b[0marr\u001b[0m \u001b[1;33m,\u001b[0m \u001b[0mstart\u001b[0m \u001b[1;33m,\u001b[0m \u001b[0mpivotindex\u001b[0m \u001b[1;33m-\u001b[0m \u001b[1;36m1\u001b[0m\u001b[1;33m)\u001b[0m\u001b[1;33m\u001b[0m\u001b[1;33m\u001b[0m\u001b[0m\n\u001b[1;32m---> 12\u001b[1;33m         \u001b[0mquicksort\u001b[0m\u001b[1;33m(\u001b[0m\u001b[0marr\u001b[0m\u001b[1;33m,\u001b[0m \u001b[0mpivotindex\u001b[0m \u001b[1;33m+\u001b[0m \u001b[1;36m1\u001b[0m\u001b[1;33m,\u001b[0m \u001b[0mstop\u001b[0m\u001b[1;33m)\u001b[0m\u001b[1;33m\u001b[0m\u001b[1;33m\u001b[0m\u001b[0m\n\u001b[0m\u001b[0;32m     13\u001b[0m \u001b[1;32mdef\u001b[0m \u001b[0mpartitionrand\u001b[0m\u001b[1;33m(\u001b[0m\u001b[0marr\u001b[0m \u001b[1;33m,\u001b[0m \u001b[0mstart\u001b[0m\u001b[1;33m,\u001b[0m \u001b[0mstop\u001b[0m\u001b[1;33m)\u001b[0m\u001b[1;33m:\u001b[0m\u001b[1;33m\u001b[0m\u001b[1;33m\u001b[0m\u001b[0m\n\u001b[0;32m     14\u001b[0m     \u001b[0mrandpivot\u001b[0m \u001b[1;33m=\u001b[0m \u001b[0mrandom\u001b[0m\u001b[1;33m.\u001b[0m\u001b[0mrandrange\u001b[0m\u001b[1;33m(\u001b[0m\u001b[0mstart\u001b[0m\u001b[1;33m,\u001b[0m \u001b[0mstop\u001b[0m\u001b[1;33m)\u001b[0m\u001b[1;33m\u001b[0m\u001b[1;33m\u001b[0m\u001b[0m\n",
      "\u001b[1;32m<ipython-input-4-a2bfedad30ac>\u001b[0m in \u001b[0;36mquicksort\u001b[1;34m(arr, start, stop)\u001b[0m\n\u001b[0;32m      9\u001b[0m     \u001b[1;32mif\u001b[0m\u001b[1;33m(\u001b[0m\u001b[0mstart\u001b[0m \u001b[1;33m<\u001b[0m \u001b[0mstop\u001b[0m\u001b[1;33m)\u001b[0m\u001b[1;33m:\u001b[0m\u001b[1;33m\u001b[0m\u001b[1;33m\u001b[0m\u001b[0m\n\u001b[0;32m     10\u001b[0m         \u001b[0mpivotindex\u001b[0m \u001b[1;33m=\u001b[0m \u001b[0mpartitionrand\u001b[0m\u001b[1;33m(\u001b[0m\u001b[0marr\u001b[0m\u001b[1;33m,\u001b[0m \u001b[0mstart\u001b[0m\u001b[1;33m,\u001b[0m \u001b[0mstop\u001b[0m\u001b[1;33m)\u001b[0m\u001b[1;33m\u001b[0m\u001b[1;33m\u001b[0m\u001b[0m\n\u001b[1;32m---> 11\u001b[1;33m         \u001b[0mquicksort\u001b[0m\u001b[1;33m(\u001b[0m\u001b[0marr\u001b[0m \u001b[1;33m,\u001b[0m \u001b[0mstart\u001b[0m \u001b[1;33m,\u001b[0m \u001b[0mpivotindex\u001b[0m \u001b[1;33m-\u001b[0m \u001b[1;36m1\u001b[0m\u001b[1;33m)\u001b[0m\u001b[1;33m\u001b[0m\u001b[1;33m\u001b[0m\u001b[0m\n\u001b[0m\u001b[0;32m     12\u001b[0m         \u001b[0mquicksort\u001b[0m\u001b[1;33m(\u001b[0m\u001b[0marr\u001b[0m\u001b[1;33m,\u001b[0m \u001b[0mpivotindex\u001b[0m \u001b[1;33m+\u001b[0m \u001b[1;36m1\u001b[0m\u001b[1;33m,\u001b[0m \u001b[0mstop\u001b[0m\u001b[1;33m)\u001b[0m\u001b[1;33m\u001b[0m\u001b[1;33m\u001b[0m\u001b[0m\n\u001b[0;32m     13\u001b[0m \u001b[1;32mdef\u001b[0m \u001b[0mpartitionrand\u001b[0m\u001b[1;33m(\u001b[0m\u001b[0marr\u001b[0m \u001b[1;33m,\u001b[0m \u001b[0mstart\u001b[0m\u001b[1;33m,\u001b[0m \u001b[0mstop\u001b[0m\u001b[1;33m)\u001b[0m\u001b[1;33m:\u001b[0m\u001b[1;33m\u001b[0m\u001b[1;33m\u001b[0m\u001b[0m\n",
      "\u001b[1;32m<ipython-input-4-a2bfedad30ac>\u001b[0m in \u001b[0;36mquicksort\u001b[1;34m(arr, start, stop)\u001b[0m\n\u001b[0;32m      9\u001b[0m     \u001b[1;32mif\u001b[0m\u001b[1;33m(\u001b[0m\u001b[0mstart\u001b[0m \u001b[1;33m<\u001b[0m \u001b[0mstop\u001b[0m\u001b[1;33m)\u001b[0m\u001b[1;33m:\u001b[0m\u001b[1;33m\u001b[0m\u001b[1;33m\u001b[0m\u001b[0m\n\u001b[0;32m     10\u001b[0m         \u001b[0mpivotindex\u001b[0m \u001b[1;33m=\u001b[0m \u001b[0mpartitionrand\u001b[0m\u001b[1;33m(\u001b[0m\u001b[0marr\u001b[0m\u001b[1;33m,\u001b[0m \u001b[0mstart\u001b[0m\u001b[1;33m,\u001b[0m \u001b[0mstop\u001b[0m\u001b[1;33m)\u001b[0m\u001b[1;33m\u001b[0m\u001b[1;33m\u001b[0m\u001b[0m\n\u001b[1;32m---> 11\u001b[1;33m         \u001b[0mquicksort\u001b[0m\u001b[1;33m(\u001b[0m\u001b[0marr\u001b[0m \u001b[1;33m,\u001b[0m \u001b[0mstart\u001b[0m \u001b[1;33m,\u001b[0m \u001b[0mpivotindex\u001b[0m \u001b[1;33m-\u001b[0m \u001b[1;36m1\u001b[0m\u001b[1;33m)\u001b[0m\u001b[1;33m\u001b[0m\u001b[1;33m\u001b[0m\u001b[0m\n\u001b[0m\u001b[0;32m     12\u001b[0m         \u001b[0mquicksort\u001b[0m\u001b[1;33m(\u001b[0m\u001b[0marr\u001b[0m\u001b[1;33m,\u001b[0m \u001b[0mpivotindex\u001b[0m \u001b[1;33m+\u001b[0m \u001b[1;36m1\u001b[0m\u001b[1;33m,\u001b[0m \u001b[0mstop\u001b[0m\u001b[1;33m)\u001b[0m\u001b[1;33m\u001b[0m\u001b[1;33m\u001b[0m\u001b[0m\n\u001b[0;32m     13\u001b[0m \u001b[1;32mdef\u001b[0m \u001b[0mpartitionrand\u001b[0m\u001b[1;33m(\u001b[0m\u001b[0marr\u001b[0m \u001b[1;33m,\u001b[0m \u001b[0mstart\u001b[0m\u001b[1;33m,\u001b[0m \u001b[0mstop\u001b[0m\u001b[1;33m)\u001b[0m\u001b[1;33m:\u001b[0m\u001b[1;33m\u001b[0m\u001b[1;33m\u001b[0m\u001b[0m\n",
      "\u001b[1;32m<ipython-input-4-a2bfedad30ac>\u001b[0m in \u001b[0;36mquicksort\u001b[1;34m(arr, start, stop)\u001b[0m\n\u001b[0;32m      9\u001b[0m     \u001b[1;32mif\u001b[0m\u001b[1;33m(\u001b[0m\u001b[0mstart\u001b[0m \u001b[1;33m<\u001b[0m \u001b[0mstop\u001b[0m\u001b[1;33m)\u001b[0m\u001b[1;33m:\u001b[0m\u001b[1;33m\u001b[0m\u001b[1;33m\u001b[0m\u001b[0m\n\u001b[0;32m     10\u001b[0m         \u001b[0mpivotindex\u001b[0m \u001b[1;33m=\u001b[0m \u001b[0mpartitionrand\u001b[0m\u001b[1;33m(\u001b[0m\u001b[0marr\u001b[0m\u001b[1;33m,\u001b[0m \u001b[0mstart\u001b[0m\u001b[1;33m,\u001b[0m \u001b[0mstop\u001b[0m\u001b[1;33m)\u001b[0m\u001b[1;33m\u001b[0m\u001b[1;33m\u001b[0m\u001b[0m\n\u001b[1;32m---> 11\u001b[1;33m         \u001b[0mquicksort\u001b[0m\u001b[1;33m(\u001b[0m\u001b[0marr\u001b[0m \u001b[1;33m,\u001b[0m \u001b[0mstart\u001b[0m \u001b[1;33m,\u001b[0m \u001b[0mpivotindex\u001b[0m \u001b[1;33m-\u001b[0m \u001b[1;36m1\u001b[0m\u001b[1;33m)\u001b[0m\u001b[1;33m\u001b[0m\u001b[1;33m\u001b[0m\u001b[0m\n\u001b[0m\u001b[0;32m     12\u001b[0m         \u001b[0mquicksort\u001b[0m\u001b[1;33m(\u001b[0m\u001b[0marr\u001b[0m\u001b[1;33m,\u001b[0m \u001b[0mpivotindex\u001b[0m \u001b[1;33m+\u001b[0m \u001b[1;36m1\u001b[0m\u001b[1;33m,\u001b[0m \u001b[0mstop\u001b[0m\u001b[1;33m)\u001b[0m\u001b[1;33m\u001b[0m\u001b[1;33m\u001b[0m\u001b[0m\n\u001b[0;32m     13\u001b[0m \u001b[1;32mdef\u001b[0m \u001b[0mpartitionrand\u001b[0m\u001b[1;33m(\u001b[0m\u001b[0marr\u001b[0m \u001b[1;33m,\u001b[0m \u001b[0mstart\u001b[0m\u001b[1;33m,\u001b[0m \u001b[0mstop\u001b[0m\u001b[1;33m)\u001b[0m\u001b[1;33m:\u001b[0m\u001b[1;33m\u001b[0m\u001b[1;33m\u001b[0m\u001b[0m\n",
      "\u001b[1;32m<ipython-input-4-a2bfedad30ac>\u001b[0m in \u001b[0;36mquicksort\u001b[1;34m(arr, start, stop)\u001b[0m\n\u001b[0;32m      9\u001b[0m     \u001b[1;32mif\u001b[0m\u001b[1;33m(\u001b[0m\u001b[0mstart\u001b[0m \u001b[1;33m<\u001b[0m \u001b[0mstop\u001b[0m\u001b[1;33m)\u001b[0m\u001b[1;33m:\u001b[0m\u001b[1;33m\u001b[0m\u001b[1;33m\u001b[0m\u001b[0m\n\u001b[0;32m     10\u001b[0m         \u001b[0mpivotindex\u001b[0m \u001b[1;33m=\u001b[0m \u001b[0mpartitionrand\u001b[0m\u001b[1;33m(\u001b[0m\u001b[0marr\u001b[0m\u001b[1;33m,\u001b[0m \u001b[0mstart\u001b[0m\u001b[1;33m,\u001b[0m \u001b[0mstop\u001b[0m\u001b[1;33m)\u001b[0m\u001b[1;33m\u001b[0m\u001b[1;33m\u001b[0m\u001b[0m\n\u001b[1;32m---> 11\u001b[1;33m         \u001b[0mquicksort\u001b[0m\u001b[1;33m(\u001b[0m\u001b[0marr\u001b[0m \u001b[1;33m,\u001b[0m \u001b[0mstart\u001b[0m \u001b[1;33m,\u001b[0m \u001b[0mpivotindex\u001b[0m \u001b[1;33m-\u001b[0m \u001b[1;36m1\u001b[0m\u001b[1;33m)\u001b[0m\u001b[1;33m\u001b[0m\u001b[1;33m\u001b[0m\u001b[0m\n\u001b[0m\u001b[0;32m     12\u001b[0m         \u001b[0mquicksort\u001b[0m\u001b[1;33m(\u001b[0m\u001b[0marr\u001b[0m\u001b[1;33m,\u001b[0m \u001b[0mpivotindex\u001b[0m \u001b[1;33m+\u001b[0m \u001b[1;36m1\u001b[0m\u001b[1;33m,\u001b[0m \u001b[0mstop\u001b[0m\u001b[1;33m)\u001b[0m\u001b[1;33m\u001b[0m\u001b[1;33m\u001b[0m\u001b[0m\n\u001b[0;32m     13\u001b[0m \u001b[1;32mdef\u001b[0m \u001b[0mpartitionrand\u001b[0m\u001b[1;33m(\u001b[0m\u001b[0marr\u001b[0m \u001b[1;33m,\u001b[0m \u001b[0mstart\u001b[0m\u001b[1;33m,\u001b[0m \u001b[0mstop\u001b[0m\u001b[1;33m)\u001b[0m\u001b[1;33m:\u001b[0m\u001b[1;33m\u001b[0m\u001b[1;33m\u001b[0m\u001b[0m\n",
      "\u001b[1;32m<ipython-input-4-a2bfedad30ac>\u001b[0m in \u001b[0;36mquicksort\u001b[1;34m(arr, start, stop)\u001b[0m\n\u001b[0;32m     10\u001b[0m         \u001b[0mpivotindex\u001b[0m \u001b[1;33m=\u001b[0m \u001b[0mpartitionrand\u001b[0m\u001b[1;33m(\u001b[0m\u001b[0marr\u001b[0m\u001b[1;33m,\u001b[0m \u001b[0mstart\u001b[0m\u001b[1;33m,\u001b[0m \u001b[0mstop\u001b[0m\u001b[1;33m)\u001b[0m\u001b[1;33m\u001b[0m\u001b[1;33m\u001b[0m\u001b[0m\n\u001b[0;32m     11\u001b[0m         \u001b[0mquicksort\u001b[0m\u001b[1;33m(\u001b[0m\u001b[0marr\u001b[0m \u001b[1;33m,\u001b[0m \u001b[0mstart\u001b[0m \u001b[1;33m,\u001b[0m \u001b[0mpivotindex\u001b[0m \u001b[1;33m-\u001b[0m \u001b[1;36m1\u001b[0m\u001b[1;33m)\u001b[0m\u001b[1;33m\u001b[0m\u001b[1;33m\u001b[0m\u001b[0m\n\u001b[1;32m---> 12\u001b[1;33m         \u001b[0mquicksort\u001b[0m\u001b[1;33m(\u001b[0m\u001b[0marr\u001b[0m\u001b[1;33m,\u001b[0m \u001b[0mpivotindex\u001b[0m \u001b[1;33m+\u001b[0m \u001b[1;36m1\u001b[0m\u001b[1;33m,\u001b[0m \u001b[0mstop\u001b[0m\u001b[1;33m)\u001b[0m\u001b[1;33m\u001b[0m\u001b[1;33m\u001b[0m\u001b[0m\n\u001b[0m\u001b[0;32m     13\u001b[0m \u001b[1;32mdef\u001b[0m \u001b[0mpartitionrand\u001b[0m\u001b[1;33m(\u001b[0m\u001b[0marr\u001b[0m \u001b[1;33m,\u001b[0m \u001b[0mstart\u001b[0m\u001b[1;33m,\u001b[0m \u001b[0mstop\u001b[0m\u001b[1;33m)\u001b[0m\u001b[1;33m:\u001b[0m\u001b[1;33m\u001b[0m\u001b[1;33m\u001b[0m\u001b[0m\n\u001b[0;32m     14\u001b[0m     \u001b[0mrandpivot\u001b[0m \u001b[1;33m=\u001b[0m \u001b[0mrandom\u001b[0m\u001b[1;33m.\u001b[0m\u001b[0mrandrange\u001b[0m\u001b[1;33m(\u001b[0m\u001b[0mstart\u001b[0m\u001b[1;33m,\u001b[0m \u001b[0mstop\u001b[0m\u001b[1;33m)\u001b[0m\u001b[1;33m\u001b[0m\u001b[1;33m\u001b[0m\u001b[0m\n",
      "\u001b[1;32m<ipython-input-4-a2bfedad30ac>\u001b[0m in \u001b[0;36mquicksort\u001b[1;34m(arr, start, stop)\u001b[0m\n\u001b[0;32m      8\u001b[0m \u001b[1;32mdef\u001b[0m \u001b[0mquicksort\u001b[0m\u001b[1;33m(\u001b[0m\u001b[0marr\u001b[0m\u001b[1;33m,\u001b[0m \u001b[0mstart\u001b[0m \u001b[1;33m,\u001b[0m \u001b[0mstop\u001b[0m\u001b[1;33m)\u001b[0m\u001b[1;33m:\u001b[0m\u001b[1;33m\u001b[0m\u001b[1;33m\u001b[0m\u001b[0m\n\u001b[0;32m      9\u001b[0m     \u001b[1;32mif\u001b[0m\u001b[1;33m(\u001b[0m\u001b[0mstart\u001b[0m \u001b[1;33m<\u001b[0m \u001b[0mstop\u001b[0m\u001b[1;33m)\u001b[0m\u001b[1;33m:\u001b[0m\u001b[1;33m\u001b[0m\u001b[1;33m\u001b[0m\u001b[0m\n\u001b[1;32m---> 10\u001b[1;33m         \u001b[0mpivotindex\u001b[0m \u001b[1;33m=\u001b[0m \u001b[0mpartitionrand\u001b[0m\u001b[1;33m(\u001b[0m\u001b[0marr\u001b[0m\u001b[1;33m,\u001b[0m \u001b[0mstart\u001b[0m\u001b[1;33m,\u001b[0m \u001b[0mstop\u001b[0m\u001b[1;33m)\u001b[0m\u001b[1;33m\u001b[0m\u001b[1;33m\u001b[0m\u001b[0m\n\u001b[0m\u001b[0;32m     11\u001b[0m         \u001b[0mquicksort\u001b[0m\u001b[1;33m(\u001b[0m\u001b[0marr\u001b[0m \u001b[1;33m,\u001b[0m \u001b[0mstart\u001b[0m \u001b[1;33m,\u001b[0m \u001b[0mpivotindex\u001b[0m \u001b[1;33m-\u001b[0m \u001b[1;36m1\u001b[0m\u001b[1;33m)\u001b[0m\u001b[1;33m\u001b[0m\u001b[1;33m\u001b[0m\u001b[0m\n\u001b[0;32m     12\u001b[0m         \u001b[0mquicksort\u001b[0m\u001b[1;33m(\u001b[0m\u001b[0marr\u001b[0m\u001b[1;33m,\u001b[0m \u001b[0mpivotindex\u001b[0m \u001b[1;33m+\u001b[0m \u001b[1;36m1\u001b[0m\u001b[1;33m,\u001b[0m \u001b[0mstop\u001b[0m\u001b[1;33m)\u001b[0m\u001b[1;33m\u001b[0m\u001b[1;33m\u001b[0m\u001b[0m\n",
      "\u001b[1;32m<ipython-input-4-a2bfedad30ac>\u001b[0m in \u001b[0;36mpartitionrand\u001b[1;34m(arr, start, stop)\u001b[0m\n\u001b[0;32m     14\u001b[0m     \u001b[0mrandpivot\u001b[0m \u001b[1;33m=\u001b[0m \u001b[0mrandom\u001b[0m\u001b[1;33m.\u001b[0m\u001b[0mrandrange\u001b[0m\u001b[1;33m(\u001b[0m\u001b[0mstart\u001b[0m\u001b[1;33m,\u001b[0m \u001b[0mstop\u001b[0m\u001b[1;33m)\u001b[0m\u001b[1;33m\u001b[0m\u001b[1;33m\u001b[0m\u001b[0m\n\u001b[0;32m     15\u001b[0m     \u001b[0marr\u001b[0m\u001b[1;33m[\u001b[0m\u001b[0mstart\u001b[0m\u001b[1;33m]\u001b[0m\u001b[1;33m,\u001b[0m \u001b[0marr\u001b[0m\u001b[1;33m[\u001b[0m\u001b[0mrandpivot\u001b[0m\u001b[1;33m]\u001b[0m \u001b[1;33m=\u001b[0m \u001b[0marr\u001b[0m\u001b[1;33m[\u001b[0m\u001b[0mrandpivot\u001b[0m\u001b[1;33m]\u001b[0m\u001b[1;33m,\u001b[0m \u001b[0marr\u001b[0m\u001b[1;33m[\u001b[0m\u001b[0mstart\u001b[0m\u001b[1;33m]\u001b[0m\u001b[1;33m\u001b[0m\u001b[1;33m\u001b[0m\u001b[0m\n\u001b[1;32m---> 16\u001b[1;33m     \u001b[1;32mreturn\u001b[0m \u001b[0mpartition\u001b[0m\u001b[1;33m(\u001b[0m\u001b[0marr\u001b[0m\u001b[1;33m,\u001b[0m \u001b[0mstart\u001b[0m\u001b[1;33m,\u001b[0m \u001b[0mstop\u001b[0m\u001b[1;33m)\u001b[0m\u001b[1;33m\u001b[0m\u001b[1;33m\u001b[0m\u001b[0m\n\u001b[0m\u001b[0;32m     17\u001b[0m \u001b[1;32mdef\u001b[0m \u001b[0mpartition\u001b[0m\u001b[1;33m(\u001b[0m\u001b[0marr\u001b[0m\u001b[1;33m,\u001b[0m\u001b[0mstart\u001b[0m\u001b[1;33m,\u001b[0m\u001b[0mstop\u001b[0m\u001b[1;33m)\u001b[0m\u001b[1;33m:\u001b[0m\u001b[1;33m\u001b[0m\u001b[1;33m\u001b[0m\u001b[0m\n\u001b[0;32m     18\u001b[0m     \u001b[0mpivot\u001b[0m \u001b[1;33m=\u001b[0m \u001b[0mstart\u001b[0m\u001b[1;33m\u001b[0m\u001b[1;33m\u001b[0m\u001b[0m\n",
      "\u001b[1;32m<ipython-input-4-a2bfedad30ac>\u001b[0m in \u001b[0;36mpartition\u001b[1;34m(arr, start, stop)\u001b[0m\n\u001b[0;32m     19\u001b[0m     \u001b[0mi\u001b[0m \u001b[1;33m=\u001b[0m \u001b[0mstart\u001b[0m \u001b[1;33m+\u001b[0m \u001b[1;36m1\u001b[0m\u001b[1;33m\u001b[0m\u001b[1;33m\u001b[0m\u001b[0m\n\u001b[0;32m     20\u001b[0m     \u001b[1;32mfor\u001b[0m \u001b[0mj\u001b[0m \u001b[1;32min\u001b[0m \u001b[0mrange\u001b[0m\u001b[1;33m(\u001b[0m\u001b[0mstart\u001b[0m \u001b[1;33m+\u001b[0m \u001b[1;36m1\u001b[0m\u001b[1;33m,\u001b[0m \u001b[0mstop\u001b[0m \u001b[1;33m+\u001b[0m \u001b[1;36m1\u001b[0m\u001b[1;33m)\u001b[0m\u001b[1;33m:\u001b[0m\u001b[1;33m\u001b[0m\u001b[1;33m\u001b[0m\u001b[0m\n\u001b[1;32m---> 21\u001b[1;33m         \u001b[1;32mif\u001b[0m \u001b[0marr\u001b[0m\u001b[1;33m[\u001b[0m\u001b[0mj\u001b[0m\u001b[1;33m]\u001b[0m \u001b[1;33m<=\u001b[0m \u001b[0marr\u001b[0m\u001b[1;33m[\u001b[0m\u001b[0mpivot\u001b[0m\u001b[1;33m]\u001b[0m\u001b[1;33m:\u001b[0m\u001b[1;33m\u001b[0m\u001b[1;33m\u001b[0m\u001b[0m\n\u001b[0m\u001b[0;32m     22\u001b[0m             \u001b[0marr\u001b[0m\u001b[1;33m[\u001b[0m\u001b[0mi\u001b[0m\u001b[1;33m]\u001b[0m \u001b[1;33m,\u001b[0m \u001b[0marr\u001b[0m\u001b[1;33m[\u001b[0m\u001b[0mj\u001b[0m\u001b[1;33m]\u001b[0m \u001b[1;33m=\u001b[0m \u001b[0marr\u001b[0m\u001b[1;33m[\u001b[0m\u001b[0mj\u001b[0m\u001b[1;33m]\u001b[0m \u001b[1;33m,\u001b[0m \u001b[0marr\u001b[0m\u001b[1;33m[\u001b[0m\u001b[0mi\u001b[0m\u001b[1;33m]\u001b[0m\u001b[1;33m\u001b[0m\u001b[1;33m\u001b[0m\u001b[0m\n\u001b[0;32m     23\u001b[0m             \u001b[0mi\u001b[0m \u001b[1;33m=\u001b[0m \u001b[0mi\u001b[0m \u001b[1;33m+\u001b[0m \u001b[1;36m1\u001b[0m\u001b[1;33m\u001b[0m\u001b[1;33m\u001b[0m\u001b[0m\n",
      "\u001b[1;31mKeyboardInterrupt\u001b[0m: "
     ]
    }
   ],
   "source": [
    "randomized_quick_sort_timesave_mean = np.array([])\n",
    "print('Randomized quick sort')\n",
    "for k in range(10,31):\n",
    "    timesave = np.array([])\n",
    "    for i in range(1,11):\n",
    "        arr = almost_sorted(2**k)\n",
    "        t1 = time.time()\n",
    "        quicksort(arr,0,len(arr)-1)\n",
    "        t2 = time.time()\n",
    "        duringtime=round(t2-t1, 6)\n",
    "        timesave = np.append(timesave,duringtime)\n",
    "        print(k)\n",
    "        print(duringtime)\n",
    "    randomized_quick_sort_timesave_mean = np.append(randomized_quick_sort_timesave_mean,np.mean(timesave))"
   ]
  },
  {
   "cell_type": "markdown",
   "metadata": {},
   "source": [
    "### Heap sort 執行"
   ]
  },
  {
   "cell_type": "code",
   "execution_count": 25,
   "metadata": {},
   "outputs": [
    {
     "name": "stdout",
     "output_type": "stream",
     "text": [
      "Heap Sort\n",
      "10\n",
      "0.001995\n",
      "10\n",
      "0.00299\n",
      "10\n",
      "0.001992\n",
      "10\n",
      "0.002543\n",
      "10\n",
      "0.002015\n",
      "10\n",
      "0.002998\n",
      "10\n",
      "0.001994\n",
      "10\n",
      "0.001995\n",
      "10\n",
      "0.001994\n",
      "10\n",
      "0.000998\n",
      "11\n",
      "0.006037\n",
      "11\n",
      "0.007154\n",
      "11\n",
      "0.00403\n",
      "11\n",
      "0.004989\n",
      "11\n",
      "0.00399\n",
      "11\n",
      "0.00298\n",
      "11\n",
      "0.002996\n",
      "11\n",
      "0.003986\n",
      "11\n",
      "0.003988\n",
      "11\n",
      "0.002992\n",
      "12\n",
      "0.005954\n",
      "12\n",
      "0.005991\n",
      "12\n",
      "0.004986\n",
      "12\n",
      "0.004973\n",
      "12\n",
      "0.005984\n",
      "12\n",
      "0.004991\n",
      "12\n",
      "0.004997\n",
      "12\n",
      "0.004985\n",
      "12\n",
      "0.004991\n",
      "12\n",
      "0.005983\n",
      "13\n",
      "0.010934\n",
      "13\n",
      "0.010968\n",
      "13\n",
      "0.010973\n",
      "13\n",
      "0.010969\n",
      "13\n",
      "0.010968\n",
      "13\n",
      "0.010967\n",
      "13\n",
      "0.011968\n",
      "13\n",
      "0.010971\n",
      "13\n",
      "0.010976\n",
      "13\n",
      "0.010967\n",
      "14\n",
      "0.021947\n",
      "14\n",
      "0.030917\n",
      "14\n",
      "0.022936\n",
      "14\n",
      "0.021943\n",
      "14\n",
      "0.022935\n",
      "14\n",
      "0.021945\n",
      "14\n",
      "0.02194\n",
      "14\n",
      "0.021944\n",
      "14\n",
      "0.021943\n",
      "14\n",
      "0.023968\n",
      "15\n",
      "0.046905\n",
      "15\n",
      "0.043885\n",
      "15\n",
      "0.043881\n",
      "15\n",
      "0.043887\n",
      "15\n",
      "0.05685\n",
      "15\n",
      "0.045879\n",
      "15\n",
      "0.043884\n",
      "15\n",
      "0.043999\n",
      "15\n",
      "0.043885\n",
      "15\n",
      "0.046878\n",
      "16\n",
      "0.088768\n",
      "16\n",
      "0.094745\n",
      "16\n",
      "0.094747\n",
      "16\n",
      "0.090752\n",
      "16\n",
      "0.091755\n",
      "16\n",
      "0.091765\n",
      "16\n",
      "0.089911\n",
      "16\n",
      "0.095824\n",
      "16\n",
      "0.094868\n",
      "16\n",
      "0.089761\n",
      "17\n",
      "0.193485\n",
      "17\n",
      "0.180516\n",
      "17\n",
      "0.181508\n",
      "17\n",
      "0.177525\n",
      "17\n",
      "0.181514\n",
      "17\n",
      "0.176673\n",
      "17\n",
      "0.222374\n",
      "17\n",
      "0.177553\n",
      "17\n",
      "0.179526\n",
      "17\n",
      "0.177526\n",
      "18\n",
      "0.36018\n",
      "18\n",
      "0.379438\n",
      "18\n",
      "0.356059\n",
      "18\n",
      "0.355125\n",
      "18\n",
      "0.357044\n",
      "18\n",
      "0.357079\n",
      "18\n",
      "0.356047\n",
      "18\n",
      "0.359074\n",
      "18\n",
      "0.35778\n",
      "18\n",
      "0.355057\n",
      "19\n",
      "0.713097\n",
      "19\n",
      "0.714127\n",
      "19\n",
      "0.711807\n",
      "19\n",
      "0.711134\n",
      "19\n",
      "0.712131\n",
      "19\n",
      "0.710105\n",
      "19\n",
      "0.712098\n",
      "19\n",
      "0.71306\n",
      "19\n",
      "0.715351\n",
      "19\n",
      "0.718086\n",
      "20\n",
      "1.418204\n",
      "20\n",
      "1.42017\n",
      "20\n",
      "1.405421\n",
      "20\n",
      "1.411942\n",
      "20\n",
      "1.415211\n",
      "20\n",
      "1.42718\n",
      "20\n",
      "1.409235\n",
      "20\n",
      "1.420195\n",
      "20\n",
      "1.416327\n",
      "20\n",
      "1.412218\n",
      "21\n",
      "2.838255\n",
      "21\n",
      "2.861043\n",
      "21\n",
      "2.863322\n",
      "21\n",
      "2.824437\n",
      "21\n",
      "2.821029\n",
      "21\n",
      "2.817471\n",
      "21\n",
      "2.81761\n",
      "21\n",
      "2.830407\n",
      "21\n",
      "2.834759\n",
      "21\n",
      "2.895652\n",
      "22\n",
      "5.840555\n",
      "22\n",
      "5.812975\n",
      "22\n",
      "8.856342\n",
      "22\n",
      "5.933814\n",
      "22\n",
      "6.005914\n",
      "22\n",
      "5.937722\n",
      "22\n",
      "5.899547\n",
      "22\n",
      "5.904968\n",
      "22\n",
      "5.900249\n",
      "22\n",
      "5.916175\n",
      "23\n",
      "11.818034\n",
      "23\n",
      "11.846493\n",
      "23\n",
      "12.217818\n",
      "23\n",
      "14.174071\n",
      "23\n",
      "11.857322\n",
      "23\n",
      "13.33967\n",
      "23\n",
      "11.960249\n",
      "23\n",
      "11.855062\n",
      "23\n",
      "11.829698\n",
      "23\n",
      "11.85148\n",
      "24\n",
      "29.689318\n",
      "24\n",
      "23.771668\n",
      "24\n",
      "23.648524\n",
      "24\n",
      "24.133358\n",
      "24\n",
      "23.615971\n",
      "24\n",
      "23.994209\n",
      "24\n",
      "28.844989\n",
      "24\n",
      "23.6803\n",
      "24\n",
      "24.772955\n",
      "24\n",
      "24.671212\n",
      "25\n",
      "50.818731\n",
      "25\n",
      "47.618557\n",
      "25\n",
      "49.252193\n",
      "25\n",
      "50.783738\n",
      "25\n",
      "48.20592\n",
      "25\n",
      "55.968718\n",
      "25\n",
      "47.676336\n",
      "25\n",
      "49.363387\n",
      "25\n",
      "47.897667\n",
      "25\n",
      "47.928818\n"
     ]
    },
    {
     "ename": "KeyboardInterrupt",
     "evalue": "",
     "output_type": "error",
     "traceback": [
      "\u001b[1;31m---------------------------------------------------------------------------\u001b[0m",
      "\u001b[1;31mKeyboardInterrupt\u001b[0m                         Traceback (most recent call last)",
      "\u001b[1;32m<ipython-input-25-c957f4c22a38>\u001b[0m in \u001b[0;36m<module>\u001b[1;34m\u001b[0m\n\u001b[0;32m      6\u001b[0m         \u001b[0marr\u001b[0m \u001b[1;33m=\u001b[0m \u001b[0malmost_sorted\u001b[0m\u001b[1;33m(\u001b[0m\u001b[1;36m2\u001b[0m\u001b[1;33m**\u001b[0m\u001b[0mk\u001b[0m\u001b[1;33m)\u001b[0m\u001b[1;33m\u001b[0m\u001b[1;33m\u001b[0m\u001b[0m\n\u001b[0;32m      7\u001b[0m         \u001b[0mt1\u001b[0m \u001b[1;33m=\u001b[0m \u001b[0mtime\u001b[0m\u001b[1;33m.\u001b[0m\u001b[0mtime\u001b[0m\u001b[1;33m(\u001b[0m\u001b[1;33m)\u001b[0m\u001b[1;33m\u001b[0m\u001b[1;33m\u001b[0m\u001b[0m\n\u001b[1;32m----> 8\u001b[1;33m         \u001b[0msorted_arr\u001b[0m \u001b[1;33m=\u001b[0m \u001b[0mheapSort\u001b[0m\u001b[1;33m(\u001b[0m\u001b[0marr\u001b[0m\u001b[1;33m)\u001b[0m\u001b[1;33m\u001b[0m\u001b[1;33m\u001b[0m\u001b[0m\n\u001b[0m\u001b[0;32m      9\u001b[0m         \u001b[0mt2\u001b[0m \u001b[1;33m=\u001b[0m \u001b[0mtime\u001b[0m\u001b[1;33m.\u001b[0m\u001b[0mtime\u001b[0m\u001b[1;33m(\u001b[0m\u001b[1;33m)\u001b[0m\u001b[1;33m\u001b[0m\u001b[1;33m\u001b[0m\u001b[0m\n\u001b[0;32m     10\u001b[0m         \u001b[0mduringtime\u001b[0m\u001b[1;33m=\u001b[0m\u001b[0mround\u001b[0m\u001b[1;33m(\u001b[0m\u001b[0mt2\u001b[0m\u001b[1;33m-\u001b[0m\u001b[0mt1\u001b[0m\u001b[1;33m,\u001b[0m \u001b[1;36m6\u001b[0m\u001b[1;33m)\u001b[0m\u001b[1;33m\u001b[0m\u001b[1;33m\u001b[0m\u001b[0m\n",
      "\u001b[1;32m<ipython-input-5-8cdbf44727cf>\u001b[0m in \u001b[0;36mheapSort\u001b[1;34m(arr)\u001b[0m\n\u001b[0;32m     22\u001b[0m       \u001b[1;31m# Build max heap\u001b[0m\u001b[1;33m\u001b[0m\u001b[1;33m\u001b[0m\u001b[1;33m\u001b[0m\u001b[0m\n\u001b[0;32m     23\u001b[0m     \u001b[1;32mfor\u001b[0m \u001b[0mi\u001b[0m \u001b[1;32min\u001b[0m \u001b[0mrange\u001b[0m\u001b[1;33m(\u001b[0m\u001b[0mn\u001b[0m\u001b[1;33m,\u001b[0m \u001b[1;33m-\u001b[0m\u001b[1;36m1\u001b[0m\u001b[1;33m,\u001b[0m \u001b[1;33m-\u001b[0m\u001b[1;36m1\u001b[0m\u001b[1;33m)\u001b[0m\u001b[1;33m:\u001b[0m\u001b[1;33m\u001b[0m\u001b[1;33m\u001b[0m\u001b[0m\n\u001b[1;32m---> 24\u001b[1;33m         \u001b[0mheapify\u001b[0m\u001b[1;33m(\u001b[0m\u001b[0marr\u001b[0m\u001b[1;33m,\u001b[0m \u001b[0mn\u001b[0m\u001b[1;33m,\u001b[0m \u001b[0mi\u001b[0m\u001b[1;33m)\u001b[0m\u001b[1;33m\u001b[0m\u001b[1;33m\u001b[0m\u001b[0m\n\u001b[0m\u001b[0;32m     25\u001b[0m \u001b[1;33m\u001b[0m\u001b[0m\n\u001b[0;32m     26\u001b[0m     \u001b[1;32mfor\u001b[0m \u001b[0mi\u001b[0m \u001b[1;32min\u001b[0m \u001b[0mrange\u001b[0m\u001b[1;33m(\u001b[0m\u001b[0mn\u001b[0m\u001b[1;33m-\u001b[0m\u001b[1;36m1\u001b[0m\u001b[1;33m,\u001b[0m \u001b[1;36m0\u001b[0m\u001b[1;33m,\u001b[0m \u001b[1;33m-\u001b[0m\u001b[1;36m1\u001b[0m\u001b[1;33m)\u001b[0m\u001b[1;33m:\u001b[0m\u001b[1;33m\u001b[0m\u001b[1;33m\u001b[0m\u001b[0m\n",
      "\u001b[1;32m<ipython-input-5-8cdbf44727cf>\u001b[0m in \u001b[0;36mheapify\u001b[1;34m(arr, n, i)\u001b[0m\n\u001b[0;32m      5\u001b[0m     \u001b[0mr\u001b[0m \u001b[1;33m=\u001b[0m \u001b[1;36m2\u001b[0m \u001b[1;33m*\u001b[0m \u001b[0mi\u001b[0m \u001b[1;33m+\u001b[0m \u001b[1;36m2\u001b[0m\u001b[1;33m\u001b[0m\u001b[1;33m\u001b[0m\u001b[0m\n\u001b[0;32m      6\u001b[0m \u001b[1;33m\u001b[0m\u001b[0m\n\u001b[1;32m----> 7\u001b[1;33m     \u001b[1;32mif\u001b[0m \u001b[0ml\u001b[0m \u001b[1;33m<\u001b[0m \u001b[0mn\u001b[0m \u001b[1;32mand\u001b[0m \u001b[0marr\u001b[0m\u001b[1;33m[\u001b[0m\u001b[0mi\u001b[0m\u001b[1;33m]\u001b[0m \u001b[1;33m<\u001b[0m \u001b[0marr\u001b[0m\u001b[1;33m[\u001b[0m\u001b[0ml\u001b[0m\u001b[1;33m]\u001b[0m\u001b[1;33m:\u001b[0m\u001b[1;33m\u001b[0m\u001b[1;33m\u001b[0m\u001b[0m\n\u001b[0m\u001b[0;32m      8\u001b[0m         \u001b[0mlargest\u001b[0m \u001b[1;33m=\u001b[0m \u001b[0ml\u001b[0m\u001b[1;33m\u001b[0m\u001b[1;33m\u001b[0m\u001b[0m\n\u001b[0;32m      9\u001b[0m \u001b[1;33m\u001b[0m\u001b[0m\n",
      "\u001b[1;31mKeyboardInterrupt\u001b[0m: "
     ]
    }
   ],
   "source": [
    "heapSort_timesave_mean = np.array([])\n",
    "print('Heap Sort')\n",
    "for k in range(10,31):\n",
    "    timesave = np.array([])\n",
    "    for i in range(1,11):\n",
    "        arr = almost_sorted(2**k)\n",
    "        t1 = time.time()\n",
    "        sorted_arr = heapSort(arr)\n",
    "        t2 = time.time()\n",
    "        duringtime=round(t2-t1, 6)\n",
    "        timesave = np.append(timesave,duringtime)\n",
    "        print(k)\n",
    "        print(duringtime)\n",
    "    heapSort_timesave_mean = np.append(heapSort_timesave_mean,np.mean(timesave))"
   ]
  },
  {
   "cell_type": "markdown",
   "metadata": {},
   "source": [
    "### counting sort 執行"
   ]
  },
  {
   "cell_type": "code",
   "execution_count": 27,
   "metadata": {},
   "outputs": [
    {
     "name": "stdout",
     "output_type": "stream",
     "text": [
      "Counting Sort\n",
      "10\n",
      "0.000998\n",
      "10\n",
      "0.000997\n",
      "10\n",
      "0.000998\n",
      "10\n",
      "0.000996\n",
      "10\n",
      "0.0\n",
      "10\n",
      "0.001258\n",
      "10\n",
      "0.0\n",
      "10\n",
      "0.0\n",
      "10\n",
      "0.000554\n",
      "10\n",
      "0.000954\n",
      "11\n",
      "0.000998\n",
      "11\n",
      "0.000547\n",
      "11\n",
      "0.000998\n",
      "11\n",
      "0.000997\n",
      "11\n",
      "0.000997\n",
      "11\n",
      "0.000997\n",
      "11\n",
      "0.000997\n",
      "11\n",
      "0.000998\n",
      "11\n",
      "0.001993\n",
      "11\n",
      "0.001018\n",
      "12\n",
      "0.003977\n",
      "12\n",
      "0.002986\n",
      "12\n",
      "0.004023\n",
      "12\n",
      "0.002992\n",
      "12\n",
      "0.001993\n",
      "12\n",
      "0.001994\n",
      "12\n",
      "0.001996\n",
      "12\n",
      "0.002992\n",
      "12\n",
      "0.001998\n",
      "12\n",
      "0.001993\n",
      "13\n",
      "0.004987\n",
      "13\n",
      "0.004987\n",
      "13\n",
      "0.003989\n",
      "13\n",
      "0.002992\n",
      "13\n",
      "0.003989\n",
      "13\n",
      "0.002992\n",
      "13\n",
      "0.002992\n",
      "13\n",
      "0.003989\n",
      "13\n",
      "0.002992\n",
      "13\n",
      "0.003989\n",
      "14\n",
      "0.008091\n",
      "14\n",
      "0.006979\n",
      "14\n",
      "0.005985\n",
      "14\n",
      "0.006985\n",
      "14\n",
      "0.007976\n",
      "14\n",
      "0.006981\n",
      "14\n",
      "0.007014\n",
      "14\n",
      "0.007237\n",
      "14\n",
      "0.007104\n",
      "14\n",
      "0.005985\n",
      "15\n",
      "0.014036\n",
      "15\n",
      "0.013996\n",
      "15\n",
      "0.01396\n",
      "15\n",
      "0.013963\n",
      "15\n",
      "0.013931\n",
      "15\n",
      "0.013994\n",
      "15\n",
      "0.01898\n",
      "15\n",
      "0.013959\n",
      "15\n",
      "0.013961\n",
      "15\n",
      "0.013965\n",
      "16\n",
      "0.026926\n",
      "16\n",
      "0.027927\n",
      "16\n",
      "0.027924\n",
      "16\n",
      "0.027929\n",
      "16\n",
      "0.027926\n",
      "16\n",
      "0.034902\n",
      "16\n",
      "0.030921\n",
      "16\n",
      "0.029925\n",
      "16\n",
      "0.027929\n",
      "16\n",
      "0.027927\n",
      "17\n",
      "0.053894\n",
      "17\n",
      "0.056847\n",
      "17\n",
      "0.055851\n",
      "17\n",
      "0.054853\n",
      "17\n",
      "0.055851\n",
      "17\n",
      "0.057847\n",
      "17\n",
      "0.053856\n",
      "17\n",
      "0.054855\n",
      "17\n",
      "0.059868\n",
      "17\n",
      "0.058847\n",
      "18\n",
      "0.108712\n",
      "18\n",
      "0.113696\n",
      "18\n",
      "0.109745\n",
      "18\n",
      "0.113657\n",
      "18\n",
      "0.111701\n",
      "18\n",
      "0.10974\n",
      "18\n",
      "0.175532\n",
      "18\n",
      "0.130833\n",
      "18\n",
      "0.109673\n",
      "18\n",
      "0.111704\n",
      "19\n",
      "0.218414\n",
      "19\n",
      "0.224406\n",
      "19\n",
      "0.22041\n",
      "19\n",
      "0.252294\n",
      "19\n",
      "0.229892\n",
      "19\n",
      "0.229963\n",
      "19\n",
      "0.2384\n",
      "19\n",
      "0.23633\n",
      "19\n",
      "0.226394\n",
      "19\n",
      "0.25934\n",
      "20\n",
      "0.462729\n",
      "20\n",
      "0.443776\n",
      "20\n",
      "0.439792\n",
      "20\n",
      "0.441838\n",
      "20\n",
      "0.442822\n",
      "20\n",
      "0.448768\n",
      "20\n",
      "0.590667\n",
      "20\n",
      "0.530579\n",
      "20\n",
      "0.446028\n",
      "20\n",
      "0.441392\n",
      "21\n",
      "0.87563\n",
      "21\n",
      "0.877479\n",
      "21\n",
      "0.877619\n",
      "21\n",
      "0.883605\n",
      "21\n",
      "0.881602\n",
      "21\n",
      "0.87886\n",
      "21\n",
      "0.887142\n",
      "21\n",
      "0.88651\n",
      "21\n",
      "0.881609\n",
      "21\n",
      "0.880878\n",
      "22\n",
      "1.756272\n",
      "22\n",
      "1.969714\n",
      "22\n",
      "1.75534\n",
      "22\n",
      "1.745476\n",
      "22\n",
      "1.744544\n",
      "22\n",
      "1.752282\n",
      "22\n",
      "1.74829\n",
      "22\n",
      "1.812262\n",
      "22\n",
      "1.766239\n",
      "22\n",
      "1.750434\n",
      "23\n",
      "3.48764\n",
      "23\n",
      "3.491072\n",
      "23\n",
      "5.102066\n",
      "23\n",
      "3.495902\n",
      "23\n",
      "3.509576\n",
      "23\n",
      "3.49219\n",
      "23\n",
      "3.502773\n",
      "23\n",
      "3.634278\n",
      "23\n",
      "3.693285\n",
      "23\n",
      "3.690358\n",
      "24\n",
      "7.332935\n",
      "24\n",
      "7.680087\n",
      "24\n",
      "7.365736\n",
      "24\n",
      "7.422407\n",
      "24\n",
      "7.406223\n",
      "24\n",
      "7.412683\n",
      "24\n",
      "7.364299\n",
      "24\n",
      "7.341401\n",
      "24\n",
      "7.552413\n",
      "24\n",
      "7.357438\n",
      "25\n",
      "14.901644\n",
      "25\n",
      "14.861661\n",
      "25\n",
      "14.71966\n",
      "25\n",
      "15.027065\n",
      "25\n",
      "14.871416\n",
      "25\n",
      "14.753328\n",
      "25\n",
      "16.079977\n",
      "25\n",
      "17.793283\n",
      "25\n",
      "15.570775\n",
      "25\n",
      "14.79319\n"
     ]
    },
    {
     "ename": "KeyboardInterrupt",
     "evalue": "",
     "output_type": "error",
     "traceback": [
      "\u001b[1;31m---------------------------------------------------------------------------\u001b[0m",
      "\u001b[1;31mKeyboardInterrupt\u001b[0m                         Traceback (most recent call last)",
      "\u001b[1;32m<ipython-input-27-afdf5d793483>\u001b[0m in \u001b[0;36m<module>\u001b[1;34m\u001b[0m\n\u001b[0;32m      6\u001b[0m         \u001b[0marr\u001b[0m \u001b[1;33m=\u001b[0m \u001b[0malmost_sorted\u001b[0m\u001b[1;33m(\u001b[0m\u001b[1;36m2\u001b[0m\u001b[1;33m**\u001b[0m\u001b[0mk\u001b[0m\u001b[1;33m)\u001b[0m\u001b[1;33m\u001b[0m\u001b[1;33m\u001b[0m\u001b[0m\n\u001b[0;32m      7\u001b[0m         \u001b[0mt1\u001b[0m \u001b[1;33m=\u001b[0m \u001b[0mtime\u001b[0m\u001b[1;33m.\u001b[0m\u001b[0mtime\u001b[0m\u001b[1;33m(\u001b[0m\u001b[1;33m)\u001b[0m\u001b[1;33m\u001b[0m\u001b[1;33m\u001b[0m\u001b[0m\n\u001b[1;32m----> 8\u001b[1;33m         \u001b[0msorted_arr\u001b[0m \u001b[1;33m=\u001b[0m \u001b[0mcounting_sort\u001b[0m\u001b[1;33m(\u001b[0m\u001b[0marr\u001b[0m\u001b[1;33m,\u001b[0m\u001b[1;36m2\u001b[0m\u001b[1;33m**\u001b[0m\u001b[0mk\u001b[0m\u001b[1;33m)\u001b[0m\u001b[1;33m\u001b[0m\u001b[1;33m\u001b[0m\u001b[0m\n\u001b[0m\u001b[0;32m      9\u001b[0m         \u001b[0mt2\u001b[0m \u001b[1;33m=\u001b[0m \u001b[0mtime\u001b[0m\u001b[1;33m.\u001b[0m\u001b[0mtime\u001b[0m\u001b[1;33m(\u001b[0m\u001b[1;33m)\u001b[0m\u001b[1;33m\u001b[0m\u001b[1;33m\u001b[0m\u001b[0m\n\u001b[0;32m     10\u001b[0m         \u001b[0mduringtime\u001b[0m\u001b[1;33m=\u001b[0m\u001b[0mround\u001b[0m\u001b[1;33m(\u001b[0m\u001b[0mt2\u001b[0m\u001b[1;33m-\u001b[0m\u001b[0mt1\u001b[0m\u001b[1;33m,\u001b[0m \u001b[1;36m6\u001b[0m\u001b[1;33m)\u001b[0m\u001b[1;33m\u001b[0m\u001b[1;33m\u001b[0m\u001b[0m\n",
      "\u001b[1;32m<ipython-input-6-79e1acffdd1e>\u001b[0m in \u001b[0;36mcounting_sort\u001b[1;34m(array, maxval)\u001b[0m\n\u001b[0;32m      4\u001b[0m     \u001b[0mcount\u001b[0m \u001b[1;33m=\u001b[0m \u001b[1;33m[\u001b[0m\u001b[1;36m0\u001b[0m\u001b[1;33m]\u001b[0m \u001b[1;33m*\u001b[0m \u001b[0mm\u001b[0m               \u001b[1;31m# init with zeros\u001b[0m\u001b[1;33m\u001b[0m\u001b[1;33m\u001b[0m\u001b[0m\n\u001b[0;32m      5\u001b[0m     \u001b[1;32mfor\u001b[0m \u001b[0ma\u001b[0m \u001b[1;32min\u001b[0m \u001b[0marray\u001b[0m\u001b[1;33m:\u001b[0m\u001b[1;33m\u001b[0m\u001b[1;33m\u001b[0m\u001b[0m\n\u001b[1;32m----> 6\u001b[1;33m         \u001b[0mcount\u001b[0m\u001b[1;33m[\u001b[0m\u001b[0ma\u001b[0m\u001b[1;33m]\u001b[0m \u001b[1;33m+=\u001b[0m \u001b[1;36m1\u001b[0m             \u001b[1;31m# count occurences\u001b[0m\u001b[1;33m\u001b[0m\u001b[1;33m\u001b[0m\u001b[0m\n\u001b[0m\u001b[0;32m      7\u001b[0m     \u001b[0mi\u001b[0m \u001b[1;33m=\u001b[0m \u001b[1;36m0\u001b[0m\u001b[1;33m\u001b[0m\u001b[1;33m\u001b[0m\u001b[0m\n\u001b[0;32m      8\u001b[0m     \u001b[1;32mfor\u001b[0m \u001b[0ma\u001b[0m \u001b[1;32min\u001b[0m \u001b[0mrange\u001b[0m\u001b[1;33m(\u001b[0m\u001b[0mm\u001b[0m\u001b[1;33m)\u001b[0m\u001b[1;33m:\u001b[0m            \u001b[1;31m# emit\u001b[0m\u001b[1;33m\u001b[0m\u001b[1;33m\u001b[0m\u001b[0m\n",
      "\u001b[1;31mKeyboardInterrupt\u001b[0m: "
     ]
    }
   ],
   "source": [
    "counting_sort_timesave_mean = np.array([])\n",
    "print('Counting Sort')\n",
    "for k in range(10,31):\n",
    "    timesave = np.array([])\n",
    "    for i in range(1,11):\n",
    "        arr = almost_sorted(2**k)\n",
    "        t1 = time.time()\n",
    "        sorted_arr = counting_sort(arr,2**k)\n",
    "        t2 = time.time()\n",
    "        duringtime=round(t2-t1, 6)\n",
    "        timesave = np.append(timesave,duringtime)\n",
    "        print(k)\n",
    "        print(duringtime)\n",
    "    counting_sort_timesave_mean = np.append(counting_sort_timesave_mean,np.mean(timesave))"
   ]
  },
  {
   "cell_type": "markdown",
   "metadata": {},
   "source": [
    "### 估計時間"
   ]
  },
  {
   "cell_type": "markdown",
   "metadata": {},
   "source": [
    "### Merge sort"
   ]
  },
  {
   "cell_type": "code",
   "execution_count": 44,
   "metadata": {},
   "outputs": [
    {
     "data": {
      "text/plain": [
       "[<matplotlib.lines.Line2D at 0x15d1b3c2d88>]"
      ]
     },
     "execution_count": 44,
     "metadata": {},
     "output_type": "execute_result"
    },
    {
     "data": {
      "image/png": "[encoded data removed]",
      "text/plain": [
       "<Figure size 432x288 with 1 Axes>"
      ]
     },
     "metadata": {
      "needs_background": "light"
     },
     "output_type": "display_data"
    }
   ],
   "source": [
    "plt.plot(Mergesort_timesave_mean)"
   ]
  },
  {
   "cell_type": "markdown",
   "metadata": {},
   "source": [
    "#### 由圖片判斷應該為指數關係 故計算公比"
   ]
  },
  {
   "cell_type": "markdown",
   "metadata": {},
   "source": [
    "#### 尋找公比"
   ]
  },
  {
   "cell_type": "code",
   "execution_count": 31,
   "metadata": {},
   "outputs": [
    {
     "name": "stdout",
     "output_type": "stream",
     "text": [
      "1.923\n"
     ]
    }
   ],
   "source": [
    "r_Mergesort_timesave_mean = np.array([])\n",
    "for i in range(0,len(Mergesort_timesave_mean)-1):\n",
    "    a=round(Mergesort_timesave_mean[i+1]/Mergesort_timesave_mean[i])\n",
    "    r_Mergesort_timesave_mean = np.append(r_Mergesort_timesave_mean,a)\n",
    "r = round(np.mean(r_Mergesort_timesave_mean),3)\n",
    "print(r)"
   ]
  },
  {
   "cell_type": "markdown",
   "metadata": {},
   "source": [
    "#### 估計"
   ]
  },
  {
   "cell_type": "code",
   "execution_count": 68,
   "metadata": {},
   "outputs": [],
   "source": [
    "Mergesort_timesave_mean_arr = Mergesort_timesave_mean\n",
    "for i in range(len(Mergesort_timesave_mean)-1,20):\n",
    "    Mergesort_timesave_mean_arr = np.append(Mergesort_timesave_mean_arr,Mergesort_timesave_mean_arr[-1]*r)"
   ]
  },
  {
   "cell_type": "code",
   "execution_count": 69,
   "metadata": {},
   "outputs": [
    {
     "data": {
      "text/plain": [
       "21"
      ]
     },
     "execution_count": 69,
     "metadata": {},
     "output_type": "execute_result"
    }
   ],
   "source": [
    "len(Mergesort_timesave_mean_arr)"
   ]
  },
  {
   "cell_type": "code",
   "execution_count": 70,
   "metadata": {},
   "outputs": [
    {
     "data": {
      "text/plain": [
       "[<matplotlib.lines.Line2D at 0x15d1b6a2908>]"
      ]
     },
     "execution_count": 70,
     "metadata": {},
     "output_type": "execute_result"
    },
    {
     "data": {
      "image/png": "[encoded data removed]",
      "text/plain": [
       "<Figure size 432x288 with 1 Axes>"
      ]
     },
     "metadata": {
      "needs_background": "light"
     },
     "output_type": "display_data"
    }
   ],
   "source": [
    "plt.plot(Mergesort_timesave_mean_arr)"
   ]
  },
  {
   "cell_type": "markdown",
   "metadata": {},
   "source": [
    "### Insertion Sort"
   ]
  },
  {
   "cell_type": "code",
   "execution_count": 71,
   "metadata": {},
   "outputs": [
    {
     "data": {
      "text/plain": [
       "[<matplotlib.lines.Line2D at 0x15d1bdab708>]"
      ]
     },
     "execution_count": 71,
     "metadata": {},
     "output_type": "execute_result"
    },
    {
     "data": {
      "image/png": "[encoded data removed]",
      "text/plain": [
       "<Figure size 432x288 with 1 Axes>"
      ]
     },
     "metadata": {
      "needs_background": "light"
     },
     "output_type": "display_data"
    }
   ],
   "source": [
    "plt.plot(insertionSort_timesave_mean)"
   ]
  },
  {
   "cell_type": "markdown",
   "metadata": {},
   "source": [
    "#### 由圖片判斷應該為指數關係 故計算公比"
   ]
  },
  {
   "cell_type": "markdown",
   "metadata": {},
   "source": [
    "#### 尋找公比"
   ]
  },
  {
   "cell_type": "code",
   "execution_count": 72,
   "metadata": {},
   "outputs": [
    {
     "name": "stdout",
     "output_type": "stream",
     "text": [
      "2.055\n"
     ]
    }
   ],
   "source": [
    "r_insertionSort_timesave_mean = np.array([])\n",
    "for i in range(0,len(insertionSort_timesave_mean)-1):\n",
    "    a=insertionSort_timesave_mean[i+1]/insertionSort_timesave_mean[i]\n",
    "    r_insertionSort_timesave_mean = np.append(r_insertionSort_timesave_mean,a)\n",
    "r=round(np.mean(r_insertionSort_timesave_mean),3)\n",
    "print(r)"
   ]
  },
  {
   "cell_type": "markdown",
   "metadata": {},
   "source": [
    "#### 估計"
   ]
  },
  {
   "cell_type": "code",
   "execution_count": 73,
   "metadata": {},
   "outputs": [],
   "source": [
    "insertionSort_timesave_mean_arr = insertionSort_timesave_mean\n",
    "for i in range(len(insertionSort_timesave_mean)-1,20):\n",
    "    insertionSort_timesave_mean_arr = np.append(insertionSort_timesave_mean_arr,insertionSort_timesave_mean_arr[-1]*r)"
   ]
  },
  {
   "cell_type": "code",
   "execution_count": 74,
   "metadata": {},
   "outputs": [
    {
     "data": {
      "text/plain": [
       "21"
      ]
     },
     "execution_count": 74,
     "metadata": {},
     "output_type": "execute_result"
    }
   ],
   "source": [
    "len(insertionSort_timesave_mean_arr)"
   ]
  },
  {
   "cell_type": "code",
   "execution_count": 75,
   "metadata": {},
   "outputs": [
    {
     "data": {
      "text/plain": [
       "[<matplotlib.lines.Line2D at 0x15d1ce346c8>]"
      ]
     },
     "execution_count": 75,
     "metadata": {},
     "output_type": "execute_result"
    },
    {
     "data": {
      "image/png": "[encoded data removed]",
      "text/plain": [
       "<Figure size 432x288 with 1 Axes>"
      ]
     },
     "metadata": {
      "needs_background": "light"
     },
     "output_type": "display_data"
    }
   ],
   "source": [
    "plt.plot(insertionSort_timesave_mean_arr)"
   ]
  },
  {
   "cell_type": "markdown",
   "metadata": {},
   "source": [
    "### Randomized quick sort "
   ]
  },
  {
   "cell_type": "code",
   "execution_count": 76,
   "metadata": {},
   "outputs": [
    {
     "data": {
      "text/plain": [
       "[<matplotlib.lines.Line2D at 0x15d1b7997c8>]"
      ]
     },
     "execution_count": 76,
     "metadata": {},
     "output_type": "execute_result"
    },
    {
     "data": {
      "image/png": "[encoded data removed]",
      "text/plain": [
       "<Figure size 432x288 with 1 Axes>"
      ]
     },
     "metadata": {
      "needs_background": "light"
     },
     "output_type": "display_data"
    }
   ],
   "source": [
    "plt.plot(randomized_quick_sort_timesave_mean)"
   ]
  },
  {
   "cell_type": "markdown",
   "metadata": {},
   "source": [
    "#### 由圖片判斷應該為指數關係 故計算公比"
   ]
  },
  {
   "cell_type": "markdown",
   "metadata": {},
   "source": [
    "#### 尋找公比"
   ]
  },
  {
   "cell_type": "code",
   "execution_count": 77,
   "metadata": {},
   "outputs": [
    {
     "name": "stdout",
     "output_type": "stream",
     "text": [
      "2.0\n"
     ]
    }
   ],
   "source": [
    "r_randomized_quick_sort_timesave_mean = np.array([])\n",
    "for i in range(0,len(randomized_quick_sort_timesave_mean)-1):\n",
    "    a=round(randomized_quick_sort_timesave_mean[i+1]/randomized_quick_sort_timesave_mean[i])\n",
    "    r_randomized_quick_sort_timesave_mean = np.append(r_randomized_quick_sort_timesave_mean,a)\n",
    "r=round(np.mean(r_randomized_quick_sort_timesave_mean),3)\n",
    "print(r)"
   ]
  },
  {
   "cell_type": "markdown",
   "metadata": {},
   "source": [
    "#### 估計"
   ]
  },
  {
   "cell_type": "code",
   "execution_count": 79,
   "metadata": {},
   "outputs": [],
   "source": [
    "randomized_quick_sort_timesave_mean_arr = randomized_quick_sort_timesave_mean\n",
    "for i in range(len(randomized_quick_sort_timesave_mean)-1,20):\n",
    "    randomized_quick_sort_timesave_mean_arr = np.append(randomized_quick_sort_timesave_mean_arr,randomized_quick_sort_timesave_mean_arr[-1]*r)"
   ]
  },
  {
   "cell_type": "code",
   "execution_count": 80,
   "metadata": {},
   "outputs": [
    {
     "data": {
      "text/plain": [
       "21"
      ]
     },
     "execution_count": 80,
     "metadata": {},
     "output_type": "execute_result"
    }
   ],
   "source": [
    "len(insertionSort_timesave_mean_arr)"
   ]
  },
  {
   "cell_type": "code",
   "execution_count": 81,
   "metadata": {},
   "outputs": [
    {
     "data": {
      "text/plain": [
       "[<matplotlib.lines.Line2D at 0x15d1bbd0f08>]"
      ]
     },
     "execution_count": 81,
     "metadata": {},
     "output_type": "execute_result"
    },
    {
     "data": {
      "image/png": "[encoded data removed]",
      "text/plain": [
       "<Figure size 432x288 with 1 Axes>"
      ]
     },
     "metadata": {
      "needs_background": "light"
     },
     "output_type": "display_data"
    }
   ],
   "source": [
    "plt.plot(randomized_quick_sort_timesave_mean_arr)"
   ]
  },
  {
   "cell_type": "markdown",
   "metadata": {},
   "source": [
    "### heap sort"
   ]
  },
  {
   "cell_type": "code",
   "execution_count": 82,
   "metadata": {},
   "outputs": [
    {
     "data": {
      "text/plain": [
       "[<matplotlib.lines.Line2D at 0x15d1bc6c8c8>]"
      ]
     },
     "execution_count": 82,
     "metadata": {},
     "output_type": "execute_result"
    },
    {
     "data": {
      "image/png": "[encoded data removed]",
      "text/plain": [
       "<Figure size 432x288 with 1 Axes>"
      ]
     },
     "metadata": {
      "needs_background": "light"
     },
     "output_type": "display_data"
    }
   ],
   "source": [
    "plt.plot(heapSort_timesave_mean)"
   ]
  },
  {
   "cell_type": "markdown",
   "metadata": {},
   "source": [
    "#### 由圖片判斷應該為指數關係 故計算公比"
   ]
  },
  {
   "cell_type": "markdown",
   "metadata": {},
   "source": [
    "#### 尋找公比"
   ]
  },
  {
   "cell_type": "code",
   "execution_count": 84,
   "metadata": {},
   "outputs": [
    {
     "name": "stdout",
     "output_type": "stream",
     "text": [
      "1.933\n"
     ]
    }
   ],
   "source": [
    "r_heapSort_timesave_mean = np.array([])\n",
    "for i in range(0,len(heapSort_timesave_mean)-1):\n",
    "    a=round(heapSort_timesave_mean[i+1]/heapSort_timesave_mean[i])\n",
    "    r_heapSort_timesave_mean = np.append(r_heapSort_timesave_mean,a)\n",
    "r=round(np.mean(r_heapSort_timesave_mean),3)\n",
    "print(r)"
   ]
  },
  {
   "cell_type": "markdown",
   "metadata": {},
   "source": [
    "#### 估計"
   ]
  },
  {
   "cell_type": "code",
   "execution_count": 85,
   "metadata": {},
   "outputs": [],
   "source": [
    "heapSort_timesave_mean_arr = heapSort_timesave_mean\n",
    "for i in range(len(heapSort_timesave_mean)-1,20):\n",
    "    heapSort_timesave_mean_arr = np.append(heapSort_timesave_mean_arr,heapSort_timesave_mean_arr[-1]*r)"
   ]
  },
  {
   "cell_type": "code",
   "execution_count": 86,
   "metadata": {},
   "outputs": [
    {
     "data": {
      "text/plain": [
       "21"
      ]
     },
     "execution_count": 86,
     "metadata": {},
     "output_type": "execute_result"
    }
   ],
   "source": [
    "len(heapSort_timesave_mean_arr)"
   ]
  },
  {
   "cell_type": "code",
   "execution_count": 87,
   "metadata": {},
   "outputs": [
    {
     "data": {
      "text/plain": [
       "[<matplotlib.lines.Line2D at 0x15d1b936cc8>]"
      ]
     },
     "execution_count": 87,
     "metadata": {},
     "output_type": "execute_result"
    },
    {
     "data": {
      "image/png": "[encoded data removed]",
      "text/plain": [
       "<Figure size 432x288 with 1 Axes>"
      ]
     },
     "metadata": {
      "needs_background": "light"
     },
     "output_type": "display_data"
    }
   ],
   "source": [
    "plt.plot(heapSort_timesave_mean_arr)"
   ]
  },
  {
   "cell_type": "markdown",
   "metadata": {},
   "source": [
    "### counting sort"
   ]
  },
  {
   "cell_type": "code",
   "execution_count": 88,
   "metadata": {},
   "outputs": [
    {
     "data": {
      "text/plain": [
       "[<matplotlib.lines.Line2D at 0x15d1b936a08>]"
      ]
     },
     "execution_count": 88,
     "metadata": {},
     "output_type": "execute_result"
    },
    {
     "data": {
      "image/png": "[encoded data removed]",
      "text/plain": [
       "<Figure size 432x288 with 1 Axes>"
      ]
     },
     "metadata": {
      "needs_background": "light"
     },
     "output_type": "display_data"
    }
   ],
   "source": [
    "plt.plot(counting_sort_timesave_mean)"
   ]
  },
  {
   "cell_type": "markdown",
   "metadata": {},
   "source": [
    "#### 由圖片判斷應該為指數關係 故計算公比"
   ]
  },
  {
   "cell_type": "markdown",
   "metadata": {},
   "source": [
    "#### 尋找公比"
   ]
  },
  {
   "cell_type": "code",
   "execution_count": 90,
   "metadata": {},
   "outputs": [
    {
     "name": "stdout",
     "output_type": "stream",
     "text": [
      "2.0\n"
     ]
    }
   ],
   "source": [
    "r_counting_sort_timesave_mean = np.array([])\n",
    "for i in range(0,len(counting_sort_timesave_mean)-1):\n",
    "    a=round(counting_sort_timesave_mean[i+1]/counting_sort_timesave_mean[i])\n",
    "    r_counting_sort_timesave_mean = np.append(r_counting_sort_timesave_mean,a)\n",
    "r=round(np.mean(r_counting_sort_timesave_mean),3)\n",
    "print(r)"
   ]
  },
  {
   "cell_type": "markdown",
   "metadata": {},
   "source": [
    "#### 估計"
   ]
  },
  {
   "cell_type": "code",
   "execution_count": 91,
   "metadata": {},
   "outputs": [],
   "source": [
    "counting_sort_timesave_mean_arr = counting_sort_timesave_mean\n",
    "for i in range(len(counting_sort_timesave_mean)-1,20):\n",
    "    counting_sort_timesave_mean_arr = np.append(counting_sort_timesave_mean_arr,counting_sort_timesave_mean_arr[-1]*r)"
   ]
  },
  {
   "cell_type": "code",
   "execution_count": 92,
   "metadata": {},
   "outputs": [
    {
     "data": {
      "text/plain": [
       "21"
      ]
     },
     "execution_count": 92,
     "metadata": {},
     "output_type": "execute_result"
    }
   ],
   "source": [
    "len(counting_sort_timesave_mean_arr)"
   ]
  },
  {
   "cell_type": "code",
   "execution_count": 93,
   "metadata": {},
   "outputs": [
    {
     "data": {
      "text/plain": [
       "[<matplotlib.lines.Line2D at 0x15d1cf5d448>]"
      ]
     },
     "execution_count": 93,
     "metadata": {},
     "output_type": "execute_result"
    },
    {
     "data": {
      "image/png": "[encoded data removed]",
      "text/plain": [
       "<Figure size 432x288 with 1 Axes>"
      ]
     },
     "metadata": {
      "needs_background": "light"
     },
     "output_type": "display_data"
    }
   ],
   "source": [
    "plt.plot(counting_sort_timesave_mean_arr)"
   ]
  },
  {
   "cell_type": "markdown",
   "metadata": {},
   "source": [
    "### 畫圖"
   ]
  },
  {
   "cell_type": "code",
   "execution_count": 96,
   "metadata": {},
   "outputs": [],
   "source": [
    "x = np.arange(10,31)\n",
    "y1 = Mergesort_timesave_mean_arr\n",
    "y2 = insertionSort_timesave_mean_arr\n",
    "y3 = randomized_quick_sort_timesave_mean_arr\n",
    "y4 = heapSort_timesave_mean_arr\n",
    "y5 = counting_sort_timesave_mean_arr"
   ]
  },
  {
   "cell_type": "code",
   "execution_count": 97,
   "metadata": {},
   "outputs": [
    {
     "data": {
      "text/plain": [
       "[<matplotlib.lines.Line2D at 0x15d1d058588>]"
      ]
     },
     "execution_count": 97,
     "metadata": {},
     "output_type": "execute_result"
    },
    {
     "data": {
      "image/png": "[encoded data removed]",
      "text/plain": [
       "<Figure size 432x288 with 1 Axes>"
      ]
     },
     "metadata": {
      "needs_background": "light"
     },
     "output_type": "display_data"
    }
   ],
   "source": [
    "plt.plot(x , y1 , color='black' , label='Merge sort')\n",
    "plt.plot(x , y2 , color='red' , label= 'Insertion sort')\n",
    "plt.plot(x , y3 , color='orange' , label='Randomized quick sort')\n",
    "plt.plot(x , y4 , color='blue' , label='Heap sort')\n",
    "plt.plot(x , y5 , color='yellow' , label='Counting sort')"
   ]
  },
  {
   "cell_type": "code",
   "execution_count": null,
   "metadata": {},
   "outputs": [],
   "source": []
  },
  {
   "cell_type": "code",
   "execution_count": null,
   "metadata": {},
   "outputs": [],
   "source": []
  },
  {
   "cell_type": "code",
   "execution_count": null,
   "metadata": {},
   "outputs": [],
   "source": []
  },
  {
   "cell_type": "code",
   "execution_count": null,
   "metadata": {},
   "outputs": [],
   "source": []
  },
  {
   "cell_type": "code",
   "execution_count": null,
   "metadata": {},
   "outputs": [],
   "source": []
  }
 ],
 "metadata": {
  "kernelspec": {
   "display_name": "Python 3",
   "language": "python",
   "name": "python3"
  },
  "language_info": {
   "codemirror_mode": {
    "name": "ipython",
    "version": 3
   },
   "file_extension": ".py",
   "mimetype": "text/x-python",
   "name": "python",
   "nbconvert_exporter": "python",
   "pygments_lexer": "ipython3",
   "version": "3.7.4"
  }
 },
 "nbformat": 4,
 "nbformat_minor": 2
}
