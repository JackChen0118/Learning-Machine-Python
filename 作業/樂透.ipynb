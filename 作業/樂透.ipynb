{
 "cells": [
  {
   "cell_type": "code",
   "execution_count": 1,
   "metadata": {},
   "outputs": [],
   "source": [
    "%matplotlib inline\n",
    "\n",
    "import numpy as np\n",
    "import matplotlib.pyplot as plt\n",
    "import pandas as pd"
   ]
  },
  {
   "cell_type": "code",
   "execution_count": 24,
   "metadata": {},
   "outputs": [
    {
     "name": "stdout",
     "output_type": "stream",
     "text": [
      "請輸入第一個數字(1~10)5\n",
      "請輸入第二個數字(1~10)9\n",
      "請輸入第三個數字(1~10)3\n",
      "您選的號碼是[5, 9, 3]\n",
      "中獎號碼為[9 2 8]\n",
      "恭喜對中1個號碼!!\n"
     ]
    }
   ],
   "source": [
    "a=np.random.randint(1,10,3)\n",
    "b=[]\n",
    "c=int(input('請輸入第一個數字(1~10)'))\n",
    "d=int(input('請輸入第二個數字(1~10)'))\n",
    "e=int(input('請輸入第三個數字(1~10)'))\n",
    "b.append(c)\n",
    "b.append(d)\n",
    "b.append(e)\n",
    "f=[]\n",
    "print('您選的號碼是'+str(b))\n",
    "for i in a:\n",
    "    for j in b:\n",
    "        if i == j:\n",
    "            f.append(j)\n",
    "f=np.array(f)\n",
    "print('中獎號碼為'+str(a))\n",
    "if len(f) != 0:\n",
    "    print('恭喜對中'+str(len(f))+'個號碼!!')\n",
    "else:\n",
    "    print('QQ沒中獎')"
   ]
  },
  {
   "cell_type": "code",
   "execution_count": 5,
   "metadata": {},
   "outputs": [],
   "source": []
  },
  {
   "cell_type": "code",
   "execution_count": 15,
   "metadata": {},
   "outputs": [],
   "source": []
  },
  {
   "cell_type": "code",
   "execution_count": 18,
   "metadata": {},
   "outputs": [],
   "source": []
  },
  {
   "cell_type": "code",
   "execution_count": 19,
   "metadata": {},
   "outputs": [
    {
     "data": {
      "text/plain": [
       "[3, 3, 5]"
      ]
     },
     "execution_count": 19,
     "metadata": {},
     "output_type": "execute_result"
    }
   ],
   "source": []
  },
  {
   "cell_type": "code",
   "execution_count": 20,
   "metadata": {},
   "outputs": [
    {
     "data": {
      "text/plain": [
       "3"
      ]
     },
     "execution_count": 20,
     "metadata": {},
     "output_type": "execute_result"
    }
   ],
   "source": []
  },
  {
   "cell_type": "code",
   "execution_count": 21,
   "metadata": {},
   "outputs": [
    {
     "data": {
      "text/plain": [
       "'[3, 3, 5]'"
      ]
     },
     "execution_count": 21,
     "metadata": {},
     "output_type": "execute_result"
    }
   ],
   "source": [
    "str(b)"
   ]
  },
  {
   "cell_type": "code",
   "execution_count": null,
   "metadata": {},
   "outputs": [],
   "source": []
  }
 ],
 "metadata": {
  "kernelspec": {
   "display_name": "Python 3",
   "language": "python",
   "name": "python3"
  },
  "language_info": {
   "codemirror_mode": {
    "name": "ipython",
    "version": 3
   },
   "file_extension": ".py",
   "mimetype": "text/x-python",
   "name": "python",
   "nbconvert_exporter": "python",
   "pygments_lexer": "ipython3",
   "version": "3.7.4"
  }
 },
 "nbformat": 4,
 "nbformat_minor": 2
}
