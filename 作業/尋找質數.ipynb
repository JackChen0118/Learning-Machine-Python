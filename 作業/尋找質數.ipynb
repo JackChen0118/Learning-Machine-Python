{
 "cells": [
  {
   "cell_type": "code",
   "execution_count": 1,
   "metadata": {},
   "outputs": [],
   "source": [
    "%matplotlib inline\n",
    "\n",
    "import numpy as np\n",
    "import matplotlib.pyplot as plt\n",
    "import pandas as pd"
   ]
  },
  {
   "cell_type": "code",
   "execution_count": 2,
   "metadata": {},
   "outputs": [],
   "source": [
    "import math"
   ]
  },
  {
   "cell_type": "code",
   "execution_count": 6,
   "metadata": {},
   "outputs": [
    {
     "name": "stdout",
     "output_type": "stream",
     "text": [
      "終點值 >>30\n",
      "2\n",
      "3\n",
      "5\n",
      "7\n",
      "11\n",
      "13\n",
      "17\n",
      "19\n",
      "23\n",
      "29\n",
      "共有 10 個質數\n"
     ]
    }
   ],
   "source": [
    "a = int(input('終點值 >>'))\n",
    "amount = 0\n",
    "for i in range(2,a+1):\n",
    "    value = 0\n",
    "    for j in range(2,int(math.sqrt(i))+1):\n",
    "        if i % j == 0:\n",
    "            value = 1\n",
    "            break\n",
    "        else:\n",
    "            continue            \n",
    "    if value == 0:\n",
    "        amount += 1;  \n",
    "        print(i)\n",
    "print(\"共有 \" + str(amount) + \" 個質數\")"
   ]
  },
  {
   "cell_type": "code",
   "execution_count": null,
   "metadata": {},
   "outputs": [],
   "source": []
  }
 ],
 "metadata": {
  "kernelspec": {
   "display_name": "Python 3",
   "language": "python",
   "name": "python3"
  },
  "language_info": {
   "codemirror_mode": {
    "name": "ipython",
    "version": 3
   },
   "file_extension": ".py",
   "mimetype": "text/x-python",
   "name": "python",
   "nbconvert_exporter": "python",
   "pygments_lexer": "ipython3",
   "version": "3.7.4"
  }
 },
 "nbformat": 4,
 "nbformat_minor": 2
}
