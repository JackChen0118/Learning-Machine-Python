{
 "cells": [
  {
   "cell_type": "code",
   "execution_count": 1,
   "metadata": {},
   "outputs": [],
   "source": [
    "%matplotlib inline\n",
    "\n",
    "import numpy as np\n",
    "import matplotlib.pyplot as plt\n",
    "import pandas as pd"
   ]
  },
  {
   "cell_type": "code",
   "execution_count": 7,
   "metadata": {},
   "outputs": [
    {
     "name": "stdout",
     "output_type": "stream",
     "text": [
      "是否要記帳(Y/N)Y\n",
      "請輸入總金額3000\n",
      "是否要記帳(Y/N)Y\n",
      "請輸入加入或扣除(負號)金額-18\n",
      "輸入註記&日期3/17 公車\n",
      "3/17 公車 -18元\n",
      "餘額為2982元\n"
     ]
    }
   ],
   "source": [
    "d=input('是否要記帳(Y/N)')\n",
    "a=int(input('請輸入總金額'))\n",
    "if d == 'Y':\n",
    "    d=input('是否要記帳(Y/N)')\n",
    "    b=input('請輸入加入或扣除(負號)金額')\n",
    "    c=input('輸入註記&日期')\n",
    "    print(str(c)+' '+str(b)+'元')\n",
    "    a=a+int(b)\n",
    "    print('餘額為'+str(a)+'元')"
   ]
  },
  {
   "cell_type": "code",
   "execution_count": null,
   "metadata": {},
   "outputs": [],
   "source": []
  }
 ],
 "metadata": {
  "kernelspec": {
   "display_name": "Python 3",
   "language": "python",
   "name": "python3"
  },
  "language_info": {
   "codemirror_mode": {
    "name": "ipython",
    "version": 3
   },
   "file_extension": ".py",
   "mimetype": "text/x-python",
   "name": "python",
   "nbconvert_exporter": "python",
   "pygments_lexer": "ipython3",
   "version": "3.7.4"
  }
 },
 "nbformat": 4,
 "nbformat_minor": 2
}
