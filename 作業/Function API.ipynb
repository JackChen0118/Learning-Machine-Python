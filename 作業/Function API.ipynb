{
 "cells": [
  {
   "cell_type": "code",
   "execution_count": 2,
   "metadata": {},
   "outputs": [],
   "source": [
    "%matplotlib inline\n",
    "\n",
    "import numpy as np\n",
    "import matplotlib.pyplot as plt\n",
    "import pandas as pd"
   ]
  },
  {
   "cell_type": "code",
   "execution_count": 3,
   "metadata": {},
   "outputs": [],
   "source": [
    "from tensorflow.keras.models import Sequential\n",
    "from tensorflow.keras.layers import Dense\n",
    "from tensorflow.keras.layers import Flatten\n",
    "from tensorflow.keras.layers import Conv2D, MaxPool2D, GlobalAveragePooling2D\n",
    "from tensorflow.keras.optimizers import SGD, Adam\n",
    "from tensorflow.keras import datasets\n",
    "from tensorflow.keras.utils import to_categorical"
   ]
  },
  {
   "cell_type": "code",
   "execution_count": 4,
   "metadata": {},
   "outputs": [],
   "source": [
    "(x_train, y_train),(x_test, y_test) = datasets.fashion_mnist.load_data()"
   ]
  },
  {
   "cell_type": "code",
   "execution_count": 5,
   "metadata": {},
   "outputs": [
    {
     "data": {
      "text/plain": [
       "255"
      ]
     },
     "execution_count": 5,
     "metadata": {},
     "output_type": "execute_result"
    }
   ],
   "source": [
    "np.max(x_train)"
   ]
  },
  {
   "cell_type": "code",
   "execution_count": 6,
   "metadata": {},
   "outputs": [],
   "source": [
    "x_train = x_train.reshape(-1, 28*28)/ 255\n",
    "x_test = x_test.reshape(-1, 28*28)/ 255"
   ]
  },
  {
   "cell_type": "code",
   "execution_count": 7,
   "metadata": {},
   "outputs": [],
   "source": [
    "y_train = to_categorical(y_train, 10)\n",
    "y_test = to_categorical(y_test, 10)"
   ]
  },
  {
   "cell_type": "code",
   "execution_count": 9,
   "metadata": {},
   "outputs": [],
   "source": [
    "from tensorflow.keras.models import Model\n",
    "from tensorflow.keras.layers import Input\n",
    "from tensorflow.keras.layers import concatenate, add"
   ]
  },
  {
   "cell_type": "code",
   "execution_count": 10,
   "metadata": {},
   "outputs": [],
   "source": [
    "x = Input(shape=(784,))"
   ]
  },
  {
   "cell_type": "code",
   "execution_count": 14,
   "metadata": {},
   "outputs": [],
   "source": [
    "f_1 = Dense(500, activation='sigmoid')\n",
    "f_2 = Dense(400, activation='sigmoid')\n",
    "f_3 = Dense(250, activation='sigmoid')\n",
    "f_4 = Dense(200, activation='sigmoid')\n",
    "f_5 = Dense(10, activation='softmax')"
   ]
  },
  {
   "cell_type": "code",
   "execution_count": 17,
   "metadata": {},
   "outputs": [],
   "source": [
    "g_1 = f_1(x)\n",
    "g_2 = f_2(g_1)\n",
    "g_3 = f_3(g_2)\n",
    "z = f_4(g_1)   #新增分岐\n",
    "c = concatenate([g_2, z]) #分岐合併 \n",
    "y = f_5(c)"
   ]
  },
  {
   "cell_type": "code",
   "execution_count": 18,
   "metadata": {},
   "outputs": [
    {
     "name": "stdout",
     "output_type": "stream",
     "text": [
      "Model: \"model_1\"\n",
      "__________________________________________________________________________________________________\n",
      "Layer (type)                    Output Shape         Param #     Connected to                     \n",
      "==================================================================================================\n",
      "input_1 (InputLayer)            [(None, 784)]        0                                            \n",
      "__________________________________________________________________________________________________\n",
      "dense_4 (Dense)                 (None, 500)          392500      input_1[0][0]                    \n",
      "__________________________________________________________________________________________________\n",
      "dense_5 (Dense)                 (None, 400)          200400      dense_4[1][0]                    \n",
      "__________________________________________________________________________________________________\n",
      "dense_7 (Dense)                 (None, 200)          100200      dense_4[1][0]                    \n",
      "__________________________________________________________________________________________________\n",
      "concatenate_2 (Concatenate)     (None, 600)          0           dense_5[1][0]                    \n",
      "                                                                 dense_7[1][0]                    \n",
      "__________________________________________________________________________________________________\n",
      "dense_8 (Dense)                 (None, 10)           6010        concatenate_2[0][0]              \n",
      "==================================================================================================\n",
      "Total params: 699,110\n",
      "Trainable params: 699,110\n",
      "Non-trainable params: 0\n",
      "__________________________________________________________________________________________________\n"
     ]
    }
   ],
   "source": [
    "model = Model(x, y)\n",
    "model.summary()"
   ]
  },
  {
   "cell_type": "code",
   "execution_count": 19,
   "metadata": {},
   "outputs": [],
   "source": [
    "model.compile(loss='binary_crossentropy', optimizer=Adam(), metrics=['accuracy'])"
   ]
  },
  {
   "cell_type": "code",
   "execution_count": 20,
   "metadata": {},
   "outputs": [
    {
     "name": "stdout",
     "output_type": "stream",
     "text": [
      "Train on 60000 samples, validate on 10000 samples\n",
      "Epoch 1/12\n",
      "60000/60000 [==============================] - 4s 61us/sample - loss: 0.1218 - accuracy: 0.9523 - val_loss: 0.0847 - val_accuracy: 0.9663\n",
      "Epoch 2/12\n",
      "60000/60000 [==============================] - 3s 57us/sample - loss: 0.0759 - accuracy: 0.9698 - val_loss: 0.0786 - val_accuracy: 0.9687\n",
      "Epoch 3/12\n",
      "60000/60000 [==============================] - 4s 61us/sample - loss: 0.0696 - accuracy: 0.9723 - val_loss: 0.0760 - val_accuracy: 0.9693\n",
      "Epoch 4/12\n",
      "60000/60000 [==============================] - 3s 57us/sample - loss: 0.0654 - accuracy: 0.9741 - val_loss: 0.0706 - val_accuracy: 0.9724\n",
      "Epoch 5/12\n",
      "60000/60000 [==============================] - 3s 52us/sample - loss: 0.0623 - accuracy: 0.9754 - val_loss: 0.0664 - val_accuracy: 0.9737\n",
      "Epoch 6/12\n",
      "60000/60000 [==============================] - 3s 56us/sample - loss: 0.0594 - accuracy: 0.9765 - val_loss: 0.0657 - val_accuracy: 0.9738\n",
      "Epoch 7/12\n",
      "60000/60000 [==============================] - 4s 61us/sample - loss: 0.0572 - accuracy: 0.9774 - val_loss: 0.0654 - val_accuracy: 0.9741\n",
      "Epoch 8/12\n",
      "60000/60000 [==============================] - 4s 63us/sample - loss: 0.0549 - accuracy: 0.9782 - val_loss: 0.0635 - val_accuracy: 0.9745\n",
      "Epoch 9/12\n",
      "60000/60000 [==============================] - 4s 63us/sample - loss: 0.0533 - accuracy: 0.9788 - val_loss: 0.0632 - val_accuracy: 0.9750\n",
      "Epoch 10/12\n",
      "60000/60000 [==============================] - 4s 61us/sample - loss: 0.0518 - accuracy: 0.9796 - val_loss: 0.0615 - val_accuracy: 0.9753\n",
      "Epoch 11/12\n",
      "60000/60000 [==============================] - 4s 59us/sample - loss: 0.0505 - accuracy: 0.9799 - val_loss: 0.0602 - val_accuracy: 0.9767\n",
      "Epoch 12/12\n",
      "60000/60000 [==============================] - 4s 59us/sample - loss: 0.0490 - accuracy: 0.9805 - val_loss: 0.0589 - val_accuracy: 0.9769\n"
     ]
    },
    {
     "data": {
      "text/plain": [
       "<tensorflow.python.keras.callbacks.History at 0x1f6caa83248>"
      ]
     },
     "execution_count": 20,
     "metadata": {},
     "output_type": "execute_result"
    }
   ],
   "source": [
    "model.fit(x_train, y_train, batch_size=256, epochs=12,validation_data=(x_test, y_test))"
   ]
  },
  {
   "cell_type": "code",
   "execution_count": null,
   "metadata": {},
   "outputs": [],
   "source": []
  }
 ],
 "metadata": {
  "kernelspec": {
   "display_name": "Python 3",
   "language": "python",
   "name": "python3"
  },
  "language_info": {
   "codemirror_mode": {
    "name": "ipython",
    "version": 3
   },
   "file_extension": ".py",
   "mimetype": "text/x-python",
   "name": "python",
   "nbconvert_exporter": "python",
   "pygments_lexer": "ipython3",
   "version": "3.7.4"
  }
 },
 "nbformat": 4,
 "nbformat_minor": 2
}
