{
 "cells": [
  {
   "cell_type": "markdown",
   "metadata": {},
   "source": [
    "### 生日數字是指將西元的出生年月日每個數字獨立相加 總和若超過10 則繼續相加 加到總和為個位數"
   ]
  },
  {
   "cell_type": "code",
   "execution_count": 2,
   "metadata": {},
   "outputs": [],
   "source": [
    "%matplotlib inline\n",
    "\n",
    "import numpy as np\n",
    "import matplotlib.pyplot as plt\n",
    "import pandas as pd"
   ]
  },
  {
   "cell_type": "code",
   "execution_count": 42,
   "metadata": {},
   "outputs": [
    {
     "name": "stdout",
     "output_type": "stream",
     "text": [
      "請輸入西元出生年月日(YYYYMMDD)20010118\n",
      "2\n",
      "2.0\n",
      "2.0\n",
      "3.0\n",
      "3.0\n",
      "4.0\n",
      "5.0\n",
      "13.0\n",
      "4.0\n",
      "您的生命數字為4.0\n"
     ]
    }
   ],
   "source": [
    "a=int(input('請輸入西元出生年月日(YYYYMMDD)'))\n",
    "b=0\n",
    "c=10000000\n",
    "for i in range(8):\n",
    "    d=a//c\n",
    "    e=a//(c*10)\n",
    "    f=d-(e*10)\n",
    "    b = b + f\n",
    "    c = c/10\n",
    "    print(str(b))\n",
    "while b >= 10:\n",
    "    c=b//10\n",
    "    d=b-(c*10)\n",
    "    b=c+d\n",
    "    print(str(b))\n",
    "while b < 10:\n",
    "    print('您的生命數字為'+str(b))\n",
    "    break"
   ]
  },
  {
   "cell_type": "code",
   "execution_count": null,
   "metadata": {},
   "outputs": [],
   "source": []
  },
  {
   "cell_type": "code",
   "execution_count": 32,
   "metadata": {},
   "outputs": [],
   "source": []
  },
  {
   "cell_type": "code",
   "execution_count": null,
   "metadata": {},
   "outputs": [],
   "source": []
  }
 ],
 "metadata": {
  "kernelspec": {
   "display_name": "Python 3",
   "language": "python",
   "name": "python3"
  },
  "language_info": {
   "codemirror_mode": {
    "name": "ipython",
    "version": 3
   },
   "file_extension": ".py",
   "mimetype": "text/x-python",
   "name": "python",
   "nbconvert_exporter": "python",
   "pygments_lexer": "ipython3",
   "version": "3.7.4"
  }
 },
 "nbformat": 4,
 "nbformat_minor": 2
}
