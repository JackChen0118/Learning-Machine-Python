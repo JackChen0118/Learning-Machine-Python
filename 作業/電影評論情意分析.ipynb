{
 "cells": [
  {
   "cell_type": "code",
   "execution_count": 1,
   "metadata": {},
   "outputs": [],
   "source": [
    "%matplotlib inline\n",
    "\n",
    "import numpy as np\n",
    "import matplotlib.pyplot as plt\n",
    "import pandas as pd"
   ]
  },
  {
   "cell_type": "code",
   "execution_count": 2,
   "metadata": {},
   "outputs": [],
   "source": [
    "### 1. 讀入深度學習套件"
   ]
  },
  {
   "cell_type": "code",
   "execution_count": 3,
   "metadata": {},
   "outputs": [],
   "source": [
    "from tensorflow.keras.preprocessing import sequence\n",
    "from tensorflow.keras.models import Sequential\n",
    "from tensorflow.keras.layers import Dense, Embedding\n",
    "from tensorflow.keras.layers import LSTM\n",
    "from tensorflow.keras.datasets import imdb"
   ]
  },
  {
   "cell_type": "code",
   "execution_count": 4,
   "metadata": {},
   "outputs": [],
   "source": [
    "(x_train,y_train),(x_test,y_test) = imdb.load_data(num_words=10000)"
   ]
  },
  {
   "cell_type": "code",
   "execution_count": 5,
   "metadata": {},
   "outputs": [],
   "source": [
    "### 2.資料的處理"
   ]
  },
  {
   "cell_type": "code",
   "execution_count": 6,
   "metadata": {},
   "outputs": [],
   "source": [
    "x_train = sequence.pad_sequences(x_train, maxlen=200)\n",
    "x_test = sequence.pad_sequences(x_test, maxlen=200)    #將maxlen改為200"
   ]
  },
  {
   "cell_type": "code",
   "execution_count": 7,
   "metadata": {},
   "outputs": [],
   "source": [
    "### 3. step 1 打造一個函數學習機"
   ]
  },
  {
   "cell_type": "code",
   "execution_count": 8,
   "metadata": {},
   "outputs": [],
   "source": [
    "model = Sequential()"
   ]
  },
  {
   "cell_type": "code",
   "execution_count": 9,
   "metadata": {},
   "outputs": [],
   "source": [
    "model.add(Embedding(10000,128))"
   ]
  },
  {
   "cell_type": "code",
   "execution_count": 10,
   "metadata": {},
   "outputs": [],
   "source": [
    "model.add(LSTM(150, dropout=0.1, recurrent_dropout=0.1))  #LSTM改為150 #dropout改為 0.1"
   ]
  },
  {
   "cell_type": "code",
   "execution_count": 11,
   "metadata": {},
   "outputs": [],
   "source": [
    "model.add(Dense(1,activation='sigmoid'))"
   ]
  },
  {
   "cell_type": "code",
   "execution_count": 12,
   "metadata": {},
   "outputs": [],
   "source": [
    "model.compile(loss='binary_crossentropy',\n",
    "             optimizer='adam',\n",
    "             metrics=['accuracy'])"
   ]
  },
  {
   "cell_type": "code",
   "execution_count": 13,
   "metadata": {},
   "outputs": [
    {
     "name": "stdout",
     "output_type": "stream",
     "text": [
      "Model: \"sequential\"\n",
      "_________________________________________________________________\n",
      "Layer (type)                 Output Shape              Param #   \n",
      "=================================================================\n",
      "embedding (Embedding)        (None, None, 128)         1280000   \n",
      "_________________________________________________________________\n",
      "lstm (LSTM)                  (None, 150)               167400    \n",
      "_________________________________________________________________\n",
      "dense (Dense)                (None, 1)                 151       \n",
      "=================================================================\n",
      "Total params: 1,447,551\n",
      "Trainable params: 1,447,551\n",
      "Non-trainable params: 0\n",
      "_________________________________________________________________\n"
     ]
    }
   ],
   "source": [
    "model.summary()"
   ]
  },
  {
   "cell_type": "code",
   "execution_count": 14,
   "metadata": {},
   "outputs": [
    {
     "name": "stdout",
     "output_type": "stream",
     "text": [
      "Train on 25000 samples, validate on 25000 samples\n",
      "Epoch 1/15\n",
      "25000/25000 [==============================] - 748s 30ms/sample - loss: 0.4707 - accuracy: 0.7750 - val_loss: 0.3610 - val_accuracy: 0.8469\n",
      "Epoch 2/15\n",
      "25000/25000 [==============================] - 726s 29ms/sample - loss: 0.3196 - accuracy: 0.8688 - val_loss: 0.3703 - val_accuracy: 0.8488\n",
      "Epoch 3/15\n",
      "25000/25000 [==============================] - 804s 32ms/sample - loss: 0.2787 - accuracy: 0.8844 - val_loss: 0.4834 - val_accuracy: 0.7746\n",
      "Epoch 4/15\n",
      "25000/25000 [==============================] - 809s 32ms/sample - loss: 0.2319 - accuracy: 0.9096 - val_loss: 0.3586 - val_accuracy: 0.8536\n",
      "Epoch 5/15\n",
      "25000/25000 [==============================] - 803s 32ms/sample - loss: 0.1675 - accuracy: 0.9367 - val_loss: 0.4087 - val_accuracy: 0.8458\n",
      "Epoch 6/15\n",
      "25000/25000 [==============================] - 716s 29ms/sample - loss: 0.1263 - accuracy: 0.9546 - val_loss: 0.4346 - val_accuracy: 0.8588\n",
      "Epoch 7/15\n",
      "25000/25000 [==============================] - 652s 26ms/sample - loss: 0.1043 - accuracy: 0.9622 - val_loss: 0.4984 - val_accuracy: 0.8583\n",
      "Epoch 8/15\n",
      "25000/25000 [==============================] - 659s 26ms/sample - loss: 0.0782 - accuracy: 0.9719 - val_loss: 0.5231 - val_accuracy: 0.8567\n",
      "Epoch 9/15\n",
      "25000/25000 [==============================] - 669s 27ms/sample - loss: 0.0733 - accuracy: 0.9748 - val_loss: 0.4987 - val_accuracy: 0.8470\n",
      "Epoch 10/15\n",
      "25000/25000 [==============================] - 673s 27ms/sample - loss: 0.0601 - accuracy: 0.9790 - val_loss: 0.5572 - val_accuracy: 0.8530\n",
      "Epoch 11/15\n",
      "25000/25000 [==============================] - 676s 27ms/sample - loss: 0.0341 - accuracy: 0.9892 - val_loss: 0.6531 - val_accuracy: 0.8563\n",
      "Epoch 12/15\n",
      "25000/25000 [==============================] - 676s 27ms/sample - loss: 0.0313 - accuracy: 0.9907 - val_loss: 0.6827 - val_accuracy: 0.8527\n",
      "Epoch 13/15\n",
      "25000/25000 [==============================] - 678s 27ms/sample - loss: 0.0284 - accuracy: 0.9903 - val_loss: 0.7470 - val_accuracy: 0.8440\n",
      "Epoch 14/15\n",
      "25000/25000 [==============================] - 683s 27ms/sample - loss: 0.0196 - accuracy: 0.9941 - val_loss: 0.8089 - val_accuracy: 0.8508\n",
      "Epoch 15/15\n",
      "25000/25000 [==============================] - 683s 27ms/sample - loss: 0.0171 - accuracy: 0.9951 - val_loss: 0.7642 - val_accuracy: 0.8510\n"
     ]
    },
    {
     "data": {
      "text/plain": [
       "<tensorflow.python.keras.callbacks.History at 0x2d99ece14c8>"
      ]
     },
     "execution_count": 14,
     "metadata": {},
     "output_type": "execute_result"
    }
   ],
   "source": [
    "model.fit(x_train, y_train, batch_size=35, epochs=15,validation_data=(x_test,y_test))  #batch_size改為35 epochs改為15"
   ]
  },
  {
   "cell_type": "code",
   "execution_count": null,
   "metadata": {},
   "outputs": [],
   "source": []
  }
 ],
 "metadata": {
  "kernelspec": {
   "display_name": "Python 3",
   "language": "python",
   "name": "python3"
  },
  "language_info": {
   "codemirror_mode": {
    "name": "ipython",
    "version": 3
   },
   "file_extension": ".py",
   "mimetype": "text/x-python",
   "name": "python",
   "nbconvert_exporter": "python",
   "pygments_lexer": "ipython3",
   "version": "3.7.4"
  }
 },
 "nbformat": 4,
 "nbformat_minor": 2
}
