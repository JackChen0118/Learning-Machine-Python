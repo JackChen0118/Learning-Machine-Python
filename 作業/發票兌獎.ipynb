{
 "cells": [
  {
   "cell_type": "code",
   "execution_count": 1,
   "metadata": {},
   "outputs": [],
   "source": [
    "%matplotlib inline\n",
    "\n",
    "import numpy as np\n",
    "import matplotlib.pyplot as plt\n",
    "import pandas as pd"
   ]
  },
  {
   "cell_type": "code",
   "execution_count": 2,
   "metadata": {},
   "outputs": [],
   "source": [
    "global reward\n",
    "reward = 0\n",
    "spc = 0\n",
    "spc2 = 0\n",
    "top1 = 0\n",
    "top2 = 0\n",
    "top3 = 0\n",
    "six = 0\n",
    "given = 0"
   ]
  },
  {
   "cell_type": "code",
   "execution_count": 7,
   "metadata": {},
   "outputs": [
    {
     "name": "stdout",
     "output_type": "stream",
     "text": [
      "請輸入特別獎中獎號碼 >>91911374\n",
      "請輸入特獎中獎號碼 >>08501338\n",
      "請輸入頭獎中獎號碼 >>57161318\n",
      "請輸入頭獎中獎號碼 >>2357653\n",
      "請輸入頭獎中獎號碼 >>47332279\n",
      "請輸入增開六獎 >>519\n",
      "請輸入您的發票號碼(不再輸入請輸入1) >>87346519\n",
      "恭喜!!!中200啦\n",
      "現有獎金為200\n",
      "請輸入您的發票號碼(不再輸入請輸入1) >>91911374\n",
      "恭喜!!!中1000萬啦\n",
      "現有獎金為10000200\n",
      "請輸入您的發票號碼(不再輸入請輸入1) >>1\n"
     ]
    }
   ],
   "source": [
    "reward = 0\n",
    "spc = int(input('請輸入特別獎中獎號碼 >>'))\n",
    "spc2 = int(input('請輸入特獎中獎號碼 >>'))\n",
    "top1 = int(input('請輸入頭獎中獎號碼 >>'))\n",
    "top2 = int(input('請輸入頭獎中獎號碼 >>'))\n",
    "top3 = int(input('請輸入頭獎中獎號碼 >>'))\n",
    "six = int(input('請輸入增開六獎 >>'))\n",
    "given = int(input('請輸入您的發票號碼(不再輸入請輸入1) >>'))\n",
    "while given != 1:\n",
    "    if spc == given:\n",
    "        print('恭喜!!!中1000萬啦')\n",
    "        reward = reward + 10000000\n",
    "    if spc2 == given:\n",
    "        print('恭喜!!!中200萬啦')\n",
    "        reward = reward + 2000000\n",
    "    if given == top1 or given == top2 or given == top3:\n",
    "        print('恭喜!!!中20萬啦')\n",
    "        reward = reward + 200000\n",
    "    if (given - top1)%10000000 == 0 or (given - top2)%10000000 == 0 or (given - top3)%10000000 == 0:\n",
    "        print('恭喜!!!中4萬啦')\n",
    "        reward = reward + 40000\n",
    "    if (given - top1)%1000000 == 0 or (given - top2)%1000000 == 0 or (given - top3)%1000000 == 0:\n",
    "        print('恭喜!!!中1萬啦')\n",
    "        reward = reward + 10000\n",
    "    if (given - top1)%100000 == 0 or (given - top2)%100000 == 0 or (given - top3)%100000 == 0:\n",
    "        print('恭喜!!!中4千啦')\n",
    "        reward = reward + 4000\n",
    "    if (given - top1)%10000 == 0 or (given - top2)%10000 == 0 or (given - top3)%10000 == 0:\n",
    "        print('恭喜!!!中4千啦')\n",
    "        reward = reward + 4000\n",
    "    if (given - top1)%1000 == 0 or (given - top2)%1000 == 0 or (given - top3)%1000 == 0:\n",
    "        print('恭喜!!!中1千啦')\n",
    "        reward = reward + 1000\n",
    "    if (given - top1)%100 == 0 or (given - top2)%100 == 0 or (given - top3)%100 == 0:\n",
    "        print('恭喜!!!中200啦')\n",
    "        reward = reward + 200\n",
    "    if (given - six)%1000 == 0:\n",
    "        print('恭喜!!!中200啦')\n",
    "        reward = reward + 200\n",
    "    print('現有獎金為'+str(reward))\n",
    "    given = int(input('請輸入您的發票號碼(不再輸入請輸入1) >>'))\n",
    "    if given == 1:\n",
    "        break"
   ]
  },
  {
   "cell_type": "code",
   "execution_count": null,
   "metadata": {},
   "outputs": [],
   "source": []
  },
  {
   "cell_type": "code",
   "execution_count": null,
   "metadata": {},
   "outputs": [],
   "source": []
  }
 ],
 "metadata": {
  "kernelspec": {
   "display_name": "Python 3",
   "language": "python",
   "name": "python3"
  },
  "language_info": {
   "codemirror_mode": {
    "name": "ipython",
    "version": 3
   },
   "file_extension": ".py",
   "mimetype": "text/x-python",
   "name": "python",
   "nbconvert_exporter": "python",
   "pygments_lexer": "ipython3",
   "version": "3.7.4"
  }
 },
 "nbformat": 4,
 "nbformat_minor": 2
}
